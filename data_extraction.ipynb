{
 "cells": [
  {
   "cell_type": "code",
   "execution_count": 70,
   "metadata": {},
   "outputs": [],
   "source": [
    "import json\n",
    "import pandas as pd\n",
    "import matplotlib.pyplot as plt"
   ]
  },
  {
   "cell_type": "code",
   "execution_count": 71,
   "metadata": {},
   "outputs": [],
   "source": [
    "def data_extraction(file):\n",
    "    f = open(file,\"r\")\n",
    "    #n=0\n",
    "    data = []\n",
    "    #convert each line to dictionary and append it to list of dictionaries\n",
    "    for line in f:\n",
    "        dic = json.loads(line)\n",
    "        data.append(dic)\n",
    "        if n > 100:\n",
    "            break\n",
    "        n+=1\n",
    "    return data"
   ]
  },
  {
   "cell_type": "code",
   "execution_count": 72,
   "metadata": {},
   "outputs": [],
   "source": [
    "#As i have checked for data format\n",
    "f1 = \"adsblog_ny0.txt.2022101600\"\n",
    "f2 = \"adsblog_ny0.txt.2022101700\"\n",
    "f3 = \"adsblog_ny0.txt.2022101800\"\n",
    "\n",
    "data1 = data_extraction(f1)\n",
    "data2 = data_extraction(f2)\n",
    "data3 = data_extraction(f3)\n"
   ]
  },
  {
   "cell_type": "code",
   "execution_count": 73,
   "metadata": {},
   "outputs": [
    {
     "name": "stdout",
     "output_type": "stream",
     "text": [
      "{'type': 'new_adsb', 'dt': '2022-10-17 00:00:00.954473', 'payload': {'hex': 'a2cb32', 'flight': 'UAL5    ', 'alt_baro': 38975, 'alt_geom': 38650, 'gs': 528.4, 'track': 52.5, 'geom_rate': 0, 'squawk': '2416', 'emergency': 'none', 'category': 'A5', 'nav_qnh': 1012.8, 'nav_altitude_mcp': 39008, 'nav_heading': 63.3, 'nav_modes': ['autopilot', 'vnav', 'lnav', 'tcas'], 'lat': 44.192459, 'lon': -76.272775, 'nic': 8, 'rc': 186, 'seen_pos': 1.7, 'version': 2, 'nic_baro': 1, 'nac_p': 9, 'nac_v': 1, 'sil': 3, 'sil_type': 'perhour', 'gva': 2, 'sda': 2, 'mlat': [], 'tisb': [], 'messages': 228, 'seen': 0.1, 'rssi': -20.0}}\n",
      "{'type': 'new_adsb', 'dt': '2022-10-17 00:00:00.958384', 'payload': {'hex': 'c06120', 'flight': 'ACA824  ', 'alt_baro': 33000, 'alt_geom': 32625, 'gs': 526.0, 'ias': 298, 'tas': 478, 'mach': 0.832, 'track': 69.3, 'track_rate': 0.0, 'roll': -0.4, 'mag_heading': 85.4, 'baro_rate': 64, 'geom_rate': 64, 'squawk': '6347', 'emergency': 'none', 'category': 'A5', 'nav_qnh': 1012.8, 'nav_altitude_mcp': 32992, 'lat': 44.771568, 'lon': -75.197464, 'nic': 8, 'rc': 186, 'seen_pos': 0.1, 'version': 2, 'nic_baro': 1, 'nac_p': 9, 'nac_v': 1, 'sil': 3, 'sil_type': 'perhour', 'gva': 2, 'sda': 3, 'mlat': [], 'tisb': [], 'messages': 1853, 'seen': 0.1, 'rssi': -8.4}}\n",
      "{'type': 'new_adsb', 'dt': '2022-10-17 00:00:00.958724', 'payload': {'hex': 'aa998a', 'flight': 'N782SF  ', 'alt_baro': 21600, 'alt_geom': 21475, 'gs': 435.6, 'ias': 298, 'tas': 418, 'mach': 0.668, 'track': 68.0, 'track_rate': 0.0, 'roll': 0.0, 'mag_heading': 82.1, 'baro_rate': -2208, 'geom_rate': -2176, 'squawk': '1560', 'emergency': 'none', 'category': 'A3', 'nav_qnh': 1012.8, 'nav_altitude_mcp': 15008, 'nav_altitude_fms': 3296, 'nav_heading': 300.2, 'lat': 44.006104, 'lon': -74.805844, 'nic': 8, 'rc': 186, 'seen_pos': 0.5, 'version': 2, 'nic_baro': 1, 'nac_p': 10, 'nac_v': 1, 'sil': 3, 'sil_type': 'perhour', 'gva': 2, 'sda': 2, 'mlat': [], 'tisb': [], 'messages': 2087, 'seen': 0.5, 'rssi': -21.1}}\n",
      "{'type': 'new_adsb', 'dt': '2022-10-17 00:00:01.977741', 'payload': {'hex': 'a2cb32', 'flight': 'UAL5    ', 'alt_baro': 39000, 'alt_geom': 38675, 'gs': 528.4, 'track': 52.5, 'geom_rate': 0, 'squawk': '2416', 'emergency': 'none', 'category': 'A5', 'nav_qnh': 1012.8, 'nav_altitude_mcp': 39008, 'nav_heading': 63.3, 'nav_modes': ['autopilot', 'vnav', 'lnav', 'tcas'], 'lat': 44.196625, 'lon': -76.265259, 'nic': 8, 'rc': 186, 'seen_pos': 0.0, 'version': 2, 'nic_baro': 1, 'nac_p': 9, 'nac_v': 1, 'sil': 3, 'sil_type': 'perhour', 'gva': 2, 'sda': 2, 'mlat': [], 'tisb': [], 'messages': 256, 'seen': 0.0, 'rssi': -19.5}}\n",
      "{'type': 'new_adsb', 'dt': '2022-10-17 00:00:01.977958', 'payload': {'hex': 'c06120', 'flight': 'ACA824  ', 'alt_baro': 33000, 'alt_geom': 32625, 'gs': 526.0, 'ias': 297, 'tas': 478, 'mach': 0.832, 'track': 69.3, 'track_rate': 0.0, 'roll': -0.2, 'mag_heading': 85.4, 'baro_rate': 0, 'geom_rate': 32, 'squawk': '6347', 'emergency': 'none', 'category': 'A5', 'nav_qnh': 1012.8, 'nav_altitude_mcp': 32992, 'lat': 44.77236, 'lon': -75.194449, 'nic': 8, 'rc': 186, 'seen_pos': 0.2, 'version': 2, 'nic_baro': 1, 'nac_p': 9, 'nac_v': 1, 'sil': 3, 'sil_type': 'perhour', 'gva': 2, 'sda': 3, 'mlat': [], 'tisb': [], 'messages': 1886, 'seen': 0.2, 'rssi': -5.0}}\n"
     ]
    }
   ],
   "source": [
    "for i in range(5):\n",
    "    print(data2[i])"
   ]
  },
  {
   "cell_type": "code",
   "execution_count": 74,
   "metadata": {},
   "outputs": [],
   "source": [
    "#converting list of dic. to pandas dataframe to easily work with it as pandas has alot of resources to work with \n",
    "df1 = pd.DataFrame(data1)\n",
    "df2 = pd.DataFrame(data2)\n",
    "df3 = pd.DataFrame(data3)"
   ]
  },
  {
   "cell_type": "code",
   "execution_count": 149,
   "metadata": {},
   "outputs": [
    {
     "name": "stdout",
     "output_type": "stream",
     "text": [
      "       type                          dt  \\\n",
      "0  new_adsb  2022-10-16 00:00:00.256840   \n",
      "1  new_adsb  2022-10-16 00:00:00.258215   \n",
      "2  new_adsb  2022-10-16 00:00:00.258311   \n",
      "3  new_adsb  2022-10-16 00:00:01.278645   \n",
      "4  new_adsb  2022-10-16 00:00:01.278767   \n",
      "\n",
      "                                             payload  \n",
      "0  {'hex': 'c02ec7', 'flight': 'ACA56   ', 'alt_b...  \n",
      "1  {'hex': '0d0acd', 'flight': 'AMX637  ', 'alt_b...  \n",
      "2  {'hex': '0d0ae3', 'flight': 'XAFUF   ', 'alt_b...  \n",
      "3  {'hex': 'c02ec7', 'flight': 'ACA56   ', 'alt_b...  \n",
      "4  {'hex': '0d0acd', 'flight': 'AMX637  ', 'alt_b...  \n"
     ]
    }
   ],
   "source": [
    "print(df1.head(5))"
   ]
  },
  {
   "cell_type": "code",
   "execution_count": 76,
   "metadata": {},
   "outputs": [
    {
     "name": "stdout",
     "output_type": "stream",
     "text": [
      "0         {'hex': 'c02ec7', 'flight': 'ACA56   ', 'alt_b...\n",
      "1         {'hex': '0d0acd', 'flight': 'AMX637  ', 'alt_b...\n",
      "2         {'hex': '0d0ae3', 'flight': 'XAFUF   ', 'alt_b...\n",
      "3         {'hex': 'c02ec7', 'flight': 'ACA56   ', 'alt_b...\n",
      "4         {'hex': '0d0acd', 'flight': 'AMX637  ', 'alt_b...\n",
      "                                ...                        \n",
      "373887    {'hex': 'c06120', 'flight': 'ACA824  ', 'alt_b...\n",
      "373888    {'hex': 'aa998a', 'flight': 'N782SF  ', 'alt_b...\n",
      "373889    {'hex': 'a2cb32', 'flight': 'UAL5    ', 'alt_b...\n",
      "373890    {'hex': 'c06120', 'flight': 'ACA824  ', 'alt_b...\n",
      "373891    {'hex': 'aa998a', 'flight': 'N782SF  ', 'alt_b...\n",
      "Name: payload, Length: 373892, dtype: object\n"
     ]
    }
   ],
   "source": [
    "print(df1['payload'])"
   ]
  },
  {
   "cell_type": "code",
   "execution_count": 77,
   "metadata": {},
   "outputs": [
    {
     "name": "stdout",
     "output_type": "stream",
     "text": [
      "ACA56   \n"
     ]
    }
   ],
   "source": [
    "print(df1['payload'][0]['flight'])"
   ]
  },
  {
   "cell_type": "code",
   "execution_count": 78,
   "metadata": {},
   "outputs": [
    {
     "name": "stdout",
     "output_type": "stream",
     "text": [
      "2022-10-16 00:00:00.258215\n"
     ]
    }
   ],
   "source": [
    "print(df1['dt'][1])"
   ]
  },
  {
   "cell_type": "code",
   "execution_count": 79,
   "metadata": {},
   "outputs": [
    {
     "name": "stdout",
     "output_type": "stream",
     "text": [
      "True\n",
      "dict_keys(['hex', 'flight', 'alt_baro', 'alt_geom', 'gs', 'track', 'geom_rate', 'squawk', 'emergency', 'category', 'nav_qnh', 'nav_altitude_mcp', 'nav_heading', 'nav_modes', 'lat', 'lon', 'nic', 'rc', 'seen_pos', 'version', 'nic_baro', 'nac_p', 'nac_v', 'sil', 'sil_type', 'gva', 'sda', 'mlat', 'tisb', 'messages', 'seen', 'rssi'])\n",
      "--------------------------\n",
      "dict_keys(['hex', 'flight', 'alt_baro', 'alt_geom', 'gs', 'ias', 'tas', 'mach', 'track', 'track_rate', 'roll', 'mag_heading', 'baro_rate', 'geom_rate', 'squawk', 'emergency', 'category', 'nav_qnh', 'nav_altitude_mcp', 'nav_heading', 'nav_modes', 'lat', 'lon', 'nic', 'rc', 'seen_pos', 'version', 'nic_baro', 'nac_p', 'nac_v', 'sil', 'sil_type', 'gva', 'sda', 'mlat', 'tisb', 'messages', 'seen', 'rssi'])\n",
      "--------------------------\n",
      "dict_keys(['hex', 'flight', 'alt_baro', 'alt_geom', 'gs', 'ias', 'tas', 'mach', 'track', 'track_rate', 'roll', 'mag_heading', 'baro_rate', 'geom_rate', 'squawk', 'emergency', 'category', 'nav_qnh', 'nav_altitude_mcp', 'nav_heading', 'lat', 'lon', 'nic', 'rc', 'seen_pos', 'version', 'nic_baro', 'nac_p', 'nac_v', 'sil', 'sil_type', 'gva', 'sda', 'mlat', 'tisb', 'messages', 'seen', 'rssi'])\n"
     ]
    }
   ],
   "source": [
    "print('flight' in df1['payload'][0].keys())\n",
    "print(df2['payload'][0].keys())\n",
    "print(\"--------------------------\")\n",
    "print(df1['payload'][0].keys())\n",
    "print(\"--------------------------\")\n",
    "print(df3['payload'][0].keys())"
   ]
  },
  {
   "cell_type": "code",
   "execution_count": 80,
   "metadata": {},
   "outputs": [],
   "source": [
    "#extra = ['ias', 'tas', 'mach', 'track_rate', 'roll', 'mag_heading', 'baro_rate']"
   ]
  },
  {
   "cell_type": "code",
   "execution_count": 82,
   "metadata": {},
   "outputs": [
    {
     "name": "stdout",
     "output_type": "stream",
     "text": [
      "RangeIndex(start=0, stop=373892, step=1)\n"
     ]
    }
   ],
   "source": [
    "# for l in range(len(df1)): \n",
    "#     #print('flight' in df['payload'][l].keys())\n",
    "#     if 'flight' in df1['payload'][1].keys():\n",
    "#         #print(True)\n",
    "#         pass\n",
    "\n",
    "# print(df1['payload'][1].keys())\n",
    "print(df1['dt'].keys())"
   ]
  },
  {
   "cell_type": "code",
   "execution_count": 184,
   "metadata": {},
   "outputs": [],
   "source": [
    "def dataframe_setup(df):\n",
    "    df1 = pd.DataFrame(columns=['dt', 'flight', 'alt_baro', 'alt_geom', 'gs', 'track', 'geom_rate', 'squawk', 'emergency', 'category', 'nav_qnh', 'nav_altitude_mcp', 'nav_heading', 'nav_modes', 'lat', 'lon', 'nic', 'rc', 'seen_pos', 'version', \n",
    "                            'nic_baro', 'nac_p', 'nac_v', 'sil', 'sil_type', 'gva', 'sda', 'mlat', 'tisb', 'messages', 'seen', 'rssi'])\n",
    "    list_k = ['flight', 'alt_baro', 'alt_geom', 'gs', 'track', 'geom_rate', 'squawk', 'emergency', 'category', 'nav_qnh', 'nav_altitude_mcp', 'nav_heading', 'nav_modes', 'lat', 'lon', 'nic', 'rc', 'seen_pos', 'version', \n",
    "                            'nic_baro', 'nac_p', 'nac_v', 'sil', 'sil_type', 'gva', 'sda', 'mlat', 'tisb', 'messages', 'seen', 'rssi']\n",
    "    \n",
    "    for i in range(len(df)):\n",
    "        try: \n",
    "            if all(value in df['payload'][i].keys() for value in list_k):\n",
    "                df1 = df1.append({'dt': df['dt'][i], 'flight': df['payload'][i]['flight'], 'alt_baro': df['payload'][i]['alt_baro'], 'alt_geom': df['payload'][i]['alt_geom'], 'gs': df['payload'][i]['gs'],'track': df['payload'][i]['track'],'geom_rate': df['payload'][i]['geom_rate'], 'squawk': df['payload'][i]['squawk'], 'emergency': df['payload'][i]['emergency'], 'category': df['payload'][i]['category'], 'nav_qnh': df['payload'][i]['nav_qnh'], 'nav_altitude_mcp': df['payload'][i]['nav_altitude_mcp'], 'nav_heading': df['payload'][i]['nav_heading'], 'lat': df['payload'][i]['lat'], 'lon': df['payload'][i]['lon'], 'nic': df['payload'][i]['nic'], 'rc': df['payload'][i]['rc'], 'seen_pos': df['payload'][i]['seen_pos'], 'version': df['payload'][i]['version'], 'nic_baro': df['payload'][i]['nic_baro'], 'nac_p': df['payload'][i]['nac_p'], 'nac_v': df['payload'][i]['nac_v'], 'sil': df['payload'][i]['sil'], 'sil_type': df['payload'][i]['sil_type'], 'gva': df['payload'][i]['gva'], 'sda': df['payload'][i]['sda'], 'mlat': df['payload'][i]['mlat'],'tisb': df['payload'][i]['tisb'], 'messages': df['payload'][i]['messages'], 'seen': df['payload'][i]['seen'], 'rssi': df['payload'][i]['rssi']}, ignore_index=True)\n",
    "                #print(df1)\n",
    "        except Exception as e:\n",
    "            pass\n",
    "            #print(e)\n",
    "    return df1"
   ]
  },
  {
   "cell_type": "code",
   "execution_count": 84,
   "metadata": {},
   "outputs": [],
   "source": [
    "# df1 = pd.DataFrame()\n",
    "# print(df1)\n",
    "# df1.append(df['payload'][1].keys())\n",
    "# df1 = pd.DataFrame(columns=['dt', 'flight','alt_baro','alt_baro', 'alt_geom', 'gs', 'ias', 'tas', 'mach', 'track', 'track_rate', 'roll', 'mag_heading', 'baro_rate', 'geom_rate', 'squawk', 'emergency', 'category', 'nav_qnh', 'nav_altitude_mcp', 'nav_heading', 'lat', 'lon', 'nic', 'rc', 'seen_pos', 'version', 'nic_baro', 'nac_p', 'nac_v', 'sil', 'sil_type', 'gva', 'sda', 'mlat', 'tisb', 'messages', 'seen', 'rssi'])\n",
    "\n",
    "# for i in range(len(df)):\n",
    "#     if 'flight' in df['payload'][i].keys():\n",
    "#         df1 = df1.append({'dt': df['dt'], 'flight': df['payload'][i]['flight'], 'alt_baro': df['payload'][i]['alt_baro'], 'alt_geom': df['payload'][i]['alt_geom'], 'gs': df['payload'][i]['gs'], 'ias': df['payload'][i]['ias'], 'tas': df['payload'][i]['tas'], 'mach': df['payload'][i]['mach'], 'track': df['payload'][i]['track'], 'track_rate': df['payload'][i]['track_rate'], 'roll': df['payload'][i]['roll'], 'mag_heading': df['payload'][i]['mag_heading'], 'baro_rate': df['payload'][i]['baro_rate'], 'geom_rate': df['payload'][i]['geom_rate'], 'squawk': df['payload'][i]['squawk'], 'emergency': df['payload'][i]['emergency'], 'category': df['payload'][i]['category'], 'nav_qnh': df['payload'][i]['nav_qnh'], 'nav_altitude_mcp': df['payload'][i]['nav_altitude_mcp'], 'nav_heading': df['payload'][i]['nav_heading'], 'lat': df['payload'][i]['lat'], 'lon': df['payload'][i]['lon'], 'nic': df['payload'][i]['nic'], 'rc': df['payload'][i]['rc'], 'seen_pos': df['payload'][i]['seen_pos'], 'version': df['payload'][i]['version'], 'nic_baro': df['payload'][i]['nic_baro'], 'nac_p': df['payload'][i]['nac_p'], 'nac_v': df['payload'][i]['nac_v'], 'sil': df['payload'][i]['sil'], 'sil_type': df['payload'][i]['sil_type'], 'gva': df['payload'][i]['gva'], 'sda': df['payload'][i]['sda'], 'mlat': df['payload'][i]['mlat'], 'tisb': df['payload'][i]['tisb'], 'messages': df['payload'][i]['messages'], 'seen': df['payload'][i]['seen'], 'rssi': df['payload'][i]['rssi']}, ignore_index=True)\n",
    "\n",
    "# print(df1['lat'])\n",
    "# pd.concat([pd.DataFrame([i,e], columns=['dt', 'flight']) for i in range(len(df))],ignore_index=True)"
   ]
  },
  {
   "cell_type": "code",
   "execution_count": 179,
   "metadata": {
    "collapsed": true,
    "jupyter": {
     "outputs_hidden": true
    }
   },
   "outputs": [
    {
     "ename": "TypeError",
     "evalue": "Index(...) must be called with a collection of some kind, False was passed",
     "output_type": "error",
     "traceback": [
      "\u001b[1;31m---------------------------------------------------------------------------\u001b[0m",
      "\u001b[1;31mTypeError\u001b[0m                                 Traceback (most recent call last)",
      "Cell \u001b[1;32mIn[179], line 1\u001b[0m\n\u001b[1;32m----> 1\u001b[0m df11 \u001b[38;5;241m=\u001b[39m \u001b[43mdataframe_setup\u001b[49m\u001b[43m(\u001b[49m\u001b[43mdf1\u001b[49m\u001b[43m)\u001b[49m\n\u001b[0;32m      2\u001b[0m df22 \u001b[38;5;241m=\u001b[39m dataframe_setup(df2)\n\u001b[0;32m      3\u001b[0m df33 \u001b[38;5;241m=\u001b[39m dataframe_setup(df3)\n",
      "Cell \u001b[1;32mIn[178], line 2\u001b[0m, in \u001b[0;36mdataframe_setup\u001b[1;34m(df)\u001b[0m\n\u001b[0;32m      1\u001b[0m \u001b[38;5;28;01mdef\u001b[39;00m \u001b[38;5;21mdataframe_setup\u001b[39m(df):\n\u001b[1;32m----> 2\u001b[0m     df1 \u001b[38;5;241m=\u001b[39m \u001b[43mpd\u001b[49m\u001b[38;5;241;43m.\u001b[39;49m\u001b[43mDataFrame\u001b[49m\u001b[43m(\u001b[49m\u001b[43mcolumns\u001b[49m\u001b[38;5;241;43m=\u001b[39;49m\u001b[43m[\u001b[49m\u001b[38;5;124;43m'\u001b[39;49m\u001b[38;5;124;43mdt\u001b[39;49m\u001b[38;5;124;43m'\u001b[39;49m\u001b[43m,\u001b[49m\u001b[43m \u001b[49m\u001b[38;5;124;43m'\u001b[39;49m\u001b[38;5;124;43mflight\u001b[39;49m\u001b[38;5;124;43m'\u001b[39;49m\u001b[43m,\u001b[49m\u001b[43m \u001b[49m\u001b[38;5;124;43m'\u001b[39;49m\u001b[38;5;124;43malt_baro\u001b[39;49m\u001b[38;5;124;43m'\u001b[39;49m\u001b[43m,\u001b[49m\u001b[43m \u001b[49m\u001b[38;5;124;43m'\u001b[39;49m\u001b[38;5;124;43malt_geom\u001b[39;49m\u001b[38;5;124;43m'\u001b[39;49m\u001b[43m,\u001b[49m\u001b[43m \u001b[49m\u001b[38;5;124;43m'\u001b[39;49m\u001b[38;5;124;43mgs\u001b[39;49m\u001b[38;5;124;43m'\u001b[39;49m\u001b[43m,\u001b[49m\u001b[43m \u001b[49m\u001b[38;5;124;43m'\u001b[39;49m\u001b[38;5;124;43mtrack\u001b[39;49m\u001b[38;5;124;43m'\u001b[39;49m\u001b[43m,\u001b[49m\u001b[43m \u001b[49m\u001b[38;5;124;43m'\u001b[39;49m\u001b[38;5;124;43mgeom_rate\u001b[39;49m\u001b[38;5;124;43m'\u001b[39;49m\u001b[43m,\u001b[49m\u001b[43m \u001b[49m\u001b[38;5;124;43m'\u001b[39;49m\u001b[38;5;124;43msquawk\u001b[39;49m\u001b[38;5;124;43m'\u001b[39;49m\u001b[43m,\u001b[49m\u001b[43m \u001b[49m\u001b[38;5;124;43m'\u001b[39;49m\u001b[38;5;124;43memergency\u001b[39;49m\u001b[38;5;124;43m'\u001b[39;49m\u001b[43m,\u001b[49m\u001b[43m \u001b[49m\u001b[38;5;124;43m'\u001b[39;49m\u001b[38;5;124;43mcategory\u001b[39;49m\u001b[38;5;124;43m'\u001b[39;49m\u001b[43m,\u001b[49m\u001b[43m \u001b[49m\u001b[38;5;124;43m'\u001b[39;49m\u001b[38;5;124;43mnav_qnh\u001b[39;49m\u001b[38;5;124;43m'\u001b[39;49m\u001b[43m,\u001b[49m\u001b[43m \u001b[49m\u001b[38;5;124;43m'\u001b[39;49m\u001b[38;5;124;43mnav_altitude_mcp\u001b[39;49m\u001b[38;5;124;43m'\u001b[39;49m\u001b[43m,\u001b[49m\u001b[43m \u001b[49m\u001b[38;5;124;43m'\u001b[39;49m\u001b[38;5;124;43mnav_heading\u001b[39;49m\u001b[38;5;124;43m'\u001b[39;49m\u001b[43m,\u001b[49m\u001b[43m \u001b[49m\u001b[38;5;124;43m'\u001b[39;49m\u001b[38;5;124;43mnav_modes\u001b[39;49m\u001b[38;5;124;43m'\u001b[39;49m\u001b[43m,\u001b[49m\u001b[43m \u001b[49m\u001b[38;5;124;43m'\u001b[39;49m\u001b[38;5;124;43mlat\u001b[39;49m\u001b[38;5;124;43m'\u001b[39;49m\u001b[43m,\u001b[49m\u001b[43m \u001b[49m\u001b[38;5;124;43m'\u001b[39;49m\u001b[38;5;124;43mlon\u001b[39;49m\u001b[38;5;124;43m'\u001b[39;49m\u001b[43m,\u001b[49m\u001b[43m \u001b[49m\u001b[38;5;124;43m'\u001b[39;49m\u001b[38;5;124;43mnic\u001b[39;49m\u001b[38;5;124;43m'\u001b[39;49m\u001b[43m,\u001b[49m\u001b[43m \u001b[49m\u001b[38;5;124;43m'\u001b[39;49m\u001b[38;5;124;43mrc\u001b[39;49m\u001b[38;5;124;43m'\u001b[39;49m\u001b[43m,\u001b[49m\u001b[43m \u001b[49m\u001b[38;5;124;43m'\u001b[39;49m\u001b[38;5;124;43mseen_pos\u001b[39;49m\u001b[38;5;124;43m'\u001b[39;49m\u001b[43m,\u001b[49m\u001b[43m \u001b[49m\u001b[38;5;124;43m'\u001b[39;49m\u001b[38;5;124;43mversion\u001b[39;49m\u001b[38;5;124;43m'\u001b[39;49m\u001b[43m,\u001b[49m\u001b[43m \u001b[49m\n\u001b[0;32m      3\u001b[0m \u001b[43m                            \u001b[49m\u001b[38;5;124;43m'\u001b[39;49m\u001b[38;5;124;43mnic_baro\u001b[39;49m\u001b[38;5;124;43m'\u001b[39;49m\u001b[43m,\u001b[49m\u001b[43m \u001b[49m\u001b[38;5;124;43m'\u001b[39;49m\u001b[38;5;124;43mnac_p\u001b[39;49m\u001b[38;5;124;43m'\u001b[39;49m\u001b[43m,\u001b[49m\u001b[43m \u001b[49m\u001b[38;5;124;43m'\u001b[39;49m\u001b[38;5;124;43mnac_v\u001b[39;49m\u001b[38;5;124;43m'\u001b[39;49m\u001b[43m,\u001b[49m\u001b[43m \u001b[49m\u001b[38;5;124;43m'\u001b[39;49m\u001b[38;5;124;43msil\u001b[39;49m\u001b[38;5;124;43m'\u001b[39;49m\u001b[43m,\u001b[49m\u001b[43m \u001b[49m\u001b[38;5;124;43m'\u001b[39;49m\u001b[38;5;124;43msil_type\u001b[39;49m\u001b[38;5;124;43m'\u001b[39;49m\u001b[43m,\u001b[49m\u001b[43m \u001b[49m\u001b[38;5;124;43m'\u001b[39;49m\u001b[38;5;124;43mgva\u001b[39;49m\u001b[38;5;124;43m'\u001b[39;49m\u001b[43m,\u001b[49m\u001b[43m \u001b[49m\u001b[38;5;124;43m'\u001b[39;49m\u001b[38;5;124;43msda\u001b[39;49m\u001b[38;5;124;43m'\u001b[39;49m\u001b[43m,\u001b[49m\u001b[43m \u001b[49m\u001b[38;5;124;43m'\u001b[39;49m\u001b[38;5;124;43mmlat\u001b[39;49m\u001b[38;5;124;43m'\u001b[39;49m\u001b[43m,\u001b[49m\u001b[43m \u001b[49m\u001b[38;5;124;43m'\u001b[39;49m\u001b[38;5;124;43mtisb\u001b[39;49m\u001b[38;5;124;43m'\u001b[39;49m\u001b[43m,\u001b[49m\u001b[43m \u001b[49m\u001b[38;5;124;43m'\u001b[39;49m\u001b[38;5;124;43mmessages\u001b[39;49m\u001b[38;5;124;43m'\u001b[39;49m\u001b[43m,\u001b[49m\u001b[43m \u001b[49m\u001b[38;5;124;43m'\u001b[39;49m\u001b[38;5;124;43mseen\u001b[39;49m\u001b[38;5;124;43m'\u001b[39;49m\u001b[43m,\u001b[49m\u001b[43m \u001b[49m\u001b[38;5;124;43m'\u001b[39;49m\u001b[38;5;124;43mrssi\u001b[39;49m\u001b[38;5;124;43m'\u001b[39;49m\u001b[43m]\u001b[49m\u001b[43m,\u001b[49m\u001b[43m \u001b[49m\u001b[43mindex\u001b[49m\u001b[43m \u001b[49m\u001b[38;5;241;43m=\u001b[39;49m\u001b[43m \u001b[49m\u001b[38;5;28;43;01mFalse\u001b[39;49;00m\u001b[43m)\u001b[49m\n\u001b[0;32m      4\u001b[0m     list_k \u001b[38;5;241m=\u001b[39m [\u001b[38;5;124m'\u001b[39m\u001b[38;5;124mflight\u001b[39m\u001b[38;5;124m'\u001b[39m, \u001b[38;5;124m'\u001b[39m\u001b[38;5;124malt_baro\u001b[39m\u001b[38;5;124m'\u001b[39m, \u001b[38;5;124m'\u001b[39m\u001b[38;5;124malt_geom\u001b[39m\u001b[38;5;124m'\u001b[39m, \u001b[38;5;124m'\u001b[39m\u001b[38;5;124mgs\u001b[39m\u001b[38;5;124m'\u001b[39m, \u001b[38;5;124m'\u001b[39m\u001b[38;5;124mtrack\u001b[39m\u001b[38;5;124m'\u001b[39m, \u001b[38;5;124m'\u001b[39m\u001b[38;5;124mgeom_rate\u001b[39m\u001b[38;5;124m'\u001b[39m, \u001b[38;5;124m'\u001b[39m\u001b[38;5;124msquawk\u001b[39m\u001b[38;5;124m'\u001b[39m, \u001b[38;5;124m'\u001b[39m\u001b[38;5;124memergency\u001b[39m\u001b[38;5;124m'\u001b[39m, \u001b[38;5;124m'\u001b[39m\u001b[38;5;124mcategory\u001b[39m\u001b[38;5;124m'\u001b[39m, \u001b[38;5;124m'\u001b[39m\u001b[38;5;124mnav_qnh\u001b[39m\u001b[38;5;124m'\u001b[39m, \u001b[38;5;124m'\u001b[39m\u001b[38;5;124mnav_altitude_mcp\u001b[39m\u001b[38;5;124m'\u001b[39m, \u001b[38;5;124m'\u001b[39m\u001b[38;5;124mnav_heading\u001b[39m\u001b[38;5;124m'\u001b[39m, \u001b[38;5;124m'\u001b[39m\u001b[38;5;124mnav_modes\u001b[39m\u001b[38;5;124m'\u001b[39m, \u001b[38;5;124m'\u001b[39m\u001b[38;5;124mlat\u001b[39m\u001b[38;5;124m'\u001b[39m, \u001b[38;5;124m'\u001b[39m\u001b[38;5;124mlon\u001b[39m\u001b[38;5;124m'\u001b[39m, \u001b[38;5;124m'\u001b[39m\u001b[38;5;124mnic\u001b[39m\u001b[38;5;124m'\u001b[39m, \u001b[38;5;124m'\u001b[39m\u001b[38;5;124mrc\u001b[39m\u001b[38;5;124m'\u001b[39m, \u001b[38;5;124m'\u001b[39m\u001b[38;5;124mseen_pos\u001b[39m\u001b[38;5;124m'\u001b[39m, \u001b[38;5;124m'\u001b[39m\u001b[38;5;124mversion\u001b[39m\u001b[38;5;124m'\u001b[39m, \n\u001b[0;32m      5\u001b[0m                             \u001b[38;5;124m'\u001b[39m\u001b[38;5;124mnic_baro\u001b[39m\u001b[38;5;124m'\u001b[39m, \u001b[38;5;124m'\u001b[39m\u001b[38;5;124mnac_p\u001b[39m\u001b[38;5;124m'\u001b[39m, \u001b[38;5;124m'\u001b[39m\u001b[38;5;124mnac_v\u001b[39m\u001b[38;5;124m'\u001b[39m, \u001b[38;5;124m'\u001b[39m\u001b[38;5;124msil\u001b[39m\u001b[38;5;124m'\u001b[39m, \u001b[38;5;124m'\u001b[39m\u001b[38;5;124msil_type\u001b[39m\u001b[38;5;124m'\u001b[39m, \u001b[38;5;124m'\u001b[39m\u001b[38;5;124mgva\u001b[39m\u001b[38;5;124m'\u001b[39m, \u001b[38;5;124m'\u001b[39m\u001b[38;5;124msda\u001b[39m\u001b[38;5;124m'\u001b[39m, \u001b[38;5;124m'\u001b[39m\u001b[38;5;124mmlat\u001b[39m\u001b[38;5;124m'\u001b[39m, \u001b[38;5;124m'\u001b[39m\u001b[38;5;124mtisb\u001b[39m\u001b[38;5;124m'\u001b[39m, \u001b[38;5;124m'\u001b[39m\u001b[38;5;124mmessages\u001b[39m\u001b[38;5;124m'\u001b[39m, \u001b[38;5;124m'\u001b[39m\u001b[38;5;124mseen\u001b[39m\u001b[38;5;124m'\u001b[39m, \u001b[38;5;124m'\u001b[39m\u001b[38;5;124mrssi\u001b[39m\u001b[38;5;124m'\u001b[39m]\n\u001b[0;32m      7\u001b[0m     \u001b[38;5;28;01mfor\u001b[39;00m i \u001b[38;5;129;01min\u001b[39;00m \u001b[38;5;28mrange\u001b[39m(\u001b[38;5;28mlen\u001b[39m(df)):\n",
      "File \u001b[1;32mE:\\apps\\anaconda\\lib\\site-packages\\pandas\\core\\frame.py:468\u001b[0m, in \u001b[0;36mDataFrame.__init__\u001b[1;34m(self, data, index, columns, dtype, copy)\u001b[0m\n\u001b[0;32m    463\u001b[0m     mgr \u001b[38;5;241m=\u001b[39m \u001b[38;5;28mself\u001b[39m\u001b[38;5;241m.\u001b[39m_init_mgr(\n\u001b[0;32m    464\u001b[0m         data, axes\u001b[38;5;241m=\u001b[39m\u001b[38;5;28mdict\u001b[39m(index\u001b[38;5;241m=\u001b[39mindex, columns\u001b[38;5;241m=\u001b[39mcolumns), dtype\u001b[38;5;241m=\u001b[39mdtype, copy\u001b[38;5;241m=\u001b[39mcopy\n\u001b[0;32m    465\u001b[0m     )\n\u001b[0;32m    467\u001b[0m \u001b[38;5;28;01melif\u001b[39;00m \u001b[38;5;28misinstance\u001b[39m(data, \u001b[38;5;28mdict\u001b[39m):\n\u001b[1;32m--> 468\u001b[0m     mgr \u001b[38;5;241m=\u001b[39m \u001b[43minit_dict\u001b[49m\u001b[43m(\u001b[49m\u001b[43mdata\u001b[49m\u001b[43m,\u001b[49m\u001b[43m \u001b[49m\u001b[43mindex\u001b[49m\u001b[43m,\u001b[49m\u001b[43m \u001b[49m\u001b[43mcolumns\u001b[49m\u001b[43m,\u001b[49m\u001b[43m \u001b[49m\u001b[43mdtype\u001b[49m\u001b[38;5;241;43m=\u001b[39;49m\u001b[43mdtype\u001b[49m\u001b[43m)\u001b[49m\n\u001b[0;32m    469\u001b[0m \u001b[38;5;28;01melif\u001b[39;00m \u001b[38;5;28misinstance\u001b[39m(data, ma\u001b[38;5;241m.\u001b[39mMaskedArray):\n\u001b[0;32m    470\u001b[0m     \u001b[38;5;28;01mimport\u001b[39;00m \u001b[38;5;21;01mnumpy\u001b[39;00m\u001b[38;5;21;01m.\u001b[39;00m\u001b[38;5;21;01mma\u001b[39;00m\u001b[38;5;21;01m.\u001b[39;00m\u001b[38;5;21;01mmrecords\u001b[39;00m \u001b[38;5;28;01mas\u001b[39;00m \u001b[38;5;21;01mmrecords\u001b[39;00m\n",
      "File \u001b[1;32mE:\\apps\\anaconda\\lib\\site-packages\\pandas\\core\\internals\\construction.py:256\u001b[0m, in \u001b[0;36minit_dict\u001b[1;34m(data, index, columns, dtype)\u001b[0m\n\u001b[0;32m    254\u001b[0m     index \u001b[38;5;241m=\u001b[39m extract_index(arrays[\u001b[38;5;241m~\u001b[39mmissing])\n\u001b[0;32m    255\u001b[0m \u001b[38;5;28;01melse\u001b[39;00m:\n\u001b[1;32m--> 256\u001b[0m     index \u001b[38;5;241m=\u001b[39m \u001b[43mensure_index\u001b[49m\u001b[43m(\u001b[49m\u001b[43mindex\u001b[49m\u001b[43m)\u001b[49m\n\u001b[0;32m    258\u001b[0m \u001b[38;5;66;03m# no obvious \"empty\" int column\u001b[39;00m\n\u001b[0;32m    259\u001b[0m \u001b[38;5;28;01mif\u001b[39;00m missing\u001b[38;5;241m.\u001b[39many() \u001b[38;5;129;01mand\u001b[39;00m \u001b[38;5;129;01mnot\u001b[39;00m is_integer_dtype(dtype):\n",
      "File \u001b[1;32mE:\\apps\\anaconda\\lib\\site-packages\\pandas\\core\\indexes\\base.py:5618\u001b[0m, in \u001b[0;36mensure_index\u001b[1;34m(index_like, copy)\u001b[0m\n\u001b[0;32m   5615\u001b[0m     \u001b[38;5;28;01mif\u001b[39;00m copy:\n\u001b[0;32m   5616\u001b[0m         index_like \u001b[38;5;241m=\u001b[39m copy_func(index_like)\n\u001b[1;32m-> 5618\u001b[0m \u001b[38;5;28;01mreturn\u001b[39;00m \u001b[43mIndex\u001b[49m\u001b[43m(\u001b[49m\u001b[43mindex_like\u001b[49m\u001b[43m)\u001b[49m\n",
      "File \u001b[1;32mE:\\apps\\anaconda\\lib\\site-packages\\pandas\\core\\indexes\\base.py:415\u001b[0m, in \u001b[0;36mIndex.__new__\u001b[1;34m(cls, data, dtype, copy, name, tupleize_cols, **kwargs)\u001b[0m\n\u001b[0;32m    412\u001b[0m     \u001b[38;5;28;01mreturn\u001b[39;00m \u001b[38;5;28mcls\u001b[39m\u001b[38;5;241m.\u001b[39m_simple_new(subarr, name)\n\u001b[0;32m    414\u001b[0m \u001b[38;5;28;01melif\u001b[39;00m data \u001b[38;5;129;01mis\u001b[39;00m \u001b[38;5;28;01mNone\u001b[39;00m \u001b[38;5;129;01mor\u001b[39;00m is_scalar(data):\n\u001b[1;32m--> 415\u001b[0m     \u001b[38;5;28;01mraise\u001b[39;00m \u001b[38;5;28mcls\u001b[39m\u001b[38;5;241m.\u001b[39m_scalar_data_error(data)\n\u001b[0;32m    416\u001b[0m \u001b[38;5;28;01melif\u001b[39;00m \u001b[38;5;28mhasattr\u001b[39m(data, \u001b[38;5;124m\"\u001b[39m\u001b[38;5;124m__array__\u001b[39m\u001b[38;5;124m\"\u001b[39m):\n\u001b[0;32m    417\u001b[0m     \u001b[38;5;28;01mreturn\u001b[39;00m Index(np\u001b[38;5;241m.\u001b[39masarray(data), dtype\u001b[38;5;241m=\u001b[39mdtype, copy\u001b[38;5;241m=\u001b[39mcopy, name\u001b[38;5;241m=\u001b[39mname, \u001b[38;5;241m*\u001b[39m\u001b[38;5;241m*\u001b[39mkwargs)\n",
      "\u001b[1;31mTypeError\u001b[0m: Index(...) must be called with a collection of some kind, False was passed"
     ]
    }
   ],
   "source": [
    "df11 = dataframe_setup(df1)\n",
    "df22 = dataframe_setup(df2)\n",
    "df33 = dataframe_setup(df3)"
   ]
  },
  {
   "cell_type": "code",
   "execution_count": 185,
   "metadata": {},
   "outputs": [],
   "source": [
    "# df33.head(10)\n",
    "df11.reset_index(drop=True, inplace=True)\n",
    "df22.reset_index(drop=True, inplace=True)\n",
    "df33.reset_index(drop=True, inplace=True)"
   ]
  },
  {
   "cell_type": "code",
   "execution_count": 160,
   "metadata": {},
   "outputs": [
    {
     "name": "stdout",
     "output_type": "stream",
     "text": [
      "60881\n"
     ]
    },
    {
     "data": {
      "text/html": [
       "<div>\n",
       "<style scoped>\n",
       "    .dataframe tbody tr th:only-of-type {\n",
       "        vertical-align: middle;\n",
       "    }\n",
       "\n",
       "    .dataframe tbody tr th {\n",
       "        vertical-align: top;\n",
       "    }\n",
       "\n",
       "    .dataframe thead th {\n",
       "        text-align: right;\n",
       "    }\n",
       "</style>\n",
       "<table border=\"1\" class=\"dataframe\">\n",
       "  <thead>\n",
       "    <tr style=\"text-align: right;\">\n",
       "      <th></th>\n",
       "      <th>dt</th>\n",
       "      <th>flight</th>\n",
       "      <th>alt_baro</th>\n",
       "      <th>alt_geom</th>\n",
       "      <th>gs</th>\n",
       "      <th>track</th>\n",
       "      <th>geom_rate</th>\n",
       "      <th>squawk</th>\n",
       "      <th>emergency</th>\n",
       "      <th>category</th>\n",
       "      <th>...</th>\n",
       "      <th>nac_v</th>\n",
       "      <th>sil</th>\n",
       "      <th>sil_type</th>\n",
       "      <th>gva</th>\n",
       "      <th>sda</th>\n",
       "      <th>mlat</th>\n",
       "      <th>tisb</th>\n",
       "      <th>messages</th>\n",
       "      <th>seen</th>\n",
       "      <th>rssi</th>\n",
       "    </tr>\n",
       "  </thead>\n",
       "  <tbody>\n",
       "    <tr>\n",
       "      <th>0</th>\n",
       "      <td>2022-10-16 00:00:00.256840</td>\n",
       "      <td>ACA56</td>\n",
       "      <td>32975</td>\n",
       "      <td>32850</td>\n",
       "      <td>556.9</td>\n",
       "      <td>58.7</td>\n",
       "      <td>0</td>\n",
       "      <td>6343</td>\n",
       "      <td>none</td>\n",
       "      <td>A5</td>\n",
       "      <td>...</td>\n",
       "      <td>2</td>\n",
       "      <td>3</td>\n",
       "      <td>perhour</td>\n",
       "      <td>2</td>\n",
       "      <td>2</td>\n",
       "      <td>[]</td>\n",
       "      <td>[]</td>\n",
       "      <td>3933</td>\n",
       "      <td>0.2</td>\n",
       "      <td>-13.5</td>\n",
       "    </tr>\n",
       "    <tr>\n",
       "      <th>1</th>\n",
       "      <td>2022-10-16 00:00:01.278645</td>\n",
       "      <td>ACA56</td>\n",
       "      <td>32975</td>\n",
       "      <td>32850</td>\n",
       "      <td>556.9</td>\n",
       "      <td>58.7</td>\n",
       "      <td>0</td>\n",
       "      <td>6343</td>\n",
       "      <td>none</td>\n",
       "      <td>A5</td>\n",
       "      <td>...</td>\n",
       "      <td>2</td>\n",
       "      <td>3</td>\n",
       "      <td>perhour</td>\n",
       "      <td>2</td>\n",
       "      <td>2</td>\n",
       "      <td>[]</td>\n",
       "      <td>[]</td>\n",
       "      <td>3944</td>\n",
       "      <td>0.1</td>\n",
       "      <td>-11.7</td>\n",
       "    </tr>\n",
       "    <tr>\n",
       "      <th>2</th>\n",
       "      <td>2022-10-16 00:00:02.316310</td>\n",
       "      <td>ACA56</td>\n",
       "      <td>32975</td>\n",
       "      <td>32850</td>\n",
       "      <td>556.9</td>\n",
       "      <td>58.7</td>\n",
       "      <td>-64</td>\n",
       "      <td>6343</td>\n",
       "      <td>none</td>\n",
       "      <td>A5</td>\n",
       "      <td>...</td>\n",
       "      <td>2</td>\n",
       "      <td>3</td>\n",
       "      <td>perhour</td>\n",
       "      <td>2</td>\n",
       "      <td>2</td>\n",
       "      <td>[]</td>\n",
       "      <td>[]</td>\n",
       "      <td>3949</td>\n",
       "      <td>0.3</td>\n",
       "      <td>-11.2</td>\n",
       "    </tr>\n",
       "    <tr>\n",
       "      <th>3</th>\n",
       "      <td>2022-10-16 00:00:03.339960</td>\n",
       "      <td>ACA56</td>\n",
       "      <td>32975</td>\n",
       "      <td>32850</td>\n",
       "      <td>556.9</td>\n",
       "      <td>58.7</td>\n",
       "      <td>64</td>\n",
       "      <td>6343</td>\n",
       "      <td>none</td>\n",
       "      <td>A5</td>\n",
       "      <td>...</td>\n",
       "      <td>2</td>\n",
       "      <td>3</td>\n",
       "      <td>perhour</td>\n",
       "      <td>2</td>\n",
       "      <td>2</td>\n",
       "      <td>[]</td>\n",
       "      <td>[]</td>\n",
       "      <td>3984</td>\n",
       "      <td>0.1</td>\n",
       "      <td>-14.0</td>\n",
       "    </tr>\n",
       "    <tr>\n",
       "      <th>4</th>\n",
       "      <td>2022-10-16 00:00:04.456727</td>\n",
       "      <td>ACA56</td>\n",
       "      <td>32975</td>\n",
       "      <td>32850</td>\n",
       "      <td>556.9</td>\n",
       "      <td>58.7</td>\n",
       "      <td>64</td>\n",
       "      <td>6343</td>\n",
       "      <td>none</td>\n",
       "      <td>A5</td>\n",
       "      <td>...</td>\n",
       "      <td>2</td>\n",
       "      <td>3</td>\n",
       "      <td>perhour</td>\n",
       "      <td>2</td>\n",
       "      <td>2</td>\n",
       "      <td>[]</td>\n",
       "      <td>[]</td>\n",
       "      <td>3991</td>\n",
       "      <td>0.3</td>\n",
       "      <td>-13.9</td>\n",
       "    </tr>\n",
       "  </tbody>\n",
       "</table>\n",
       "<p>5 rows × 32 columns</p>\n",
       "</div>"
      ],
      "text/plain": [
       "                           dt    flight alt_baro alt_geom     gs  track  \\\n",
       "0  2022-10-16 00:00:00.256840  ACA56       32975    32850  556.9   58.7   \n",
       "1  2022-10-16 00:00:01.278645  ACA56       32975    32850  556.9   58.7   \n",
       "2  2022-10-16 00:00:02.316310  ACA56       32975    32850  556.9   58.7   \n",
       "3  2022-10-16 00:00:03.339960  ACA56       32975    32850  556.9   58.7   \n",
       "4  2022-10-16 00:00:04.456727  ACA56       32975    32850  556.9   58.7   \n",
       "\n",
       "  geom_rate squawk emergency category  ...  nac_v sil  sil_type  gva  sda  \\\n",
       "0         0   6343      none       A5  ...      2   3   perhour    2    2   \n",
       "1         0   6343      none       A5  ...      2   3   perhour    2    2   \n",
       "2       -64   6343      none       A5  ...      2   3   perhour    2    2   \n",
       "3        64   6343      none       A5  ...      2   3   perhour    2    2   \n",
       "4        64   6343      none       A5  ...      2   3   perhour    2    2   \n",
       "\n",
       "   mlat tisb messages  seen  rssi  \n",
       "0    []   []     3933   0.2 -13.5  \n",
       "1    []   []     3944   0.1 -11.7  \n",
       "2    []   []     3949   0.3 -11.2  \n",
       "3    []   []     3984   0.1 -14.0  \n",
       "4    []   []     3991   0.3 -13.9  \n",
       "\n",
       "[5 rows x 32 columns]"
      ]
     },
     "execution_count": 160,
     "metadata": {},
     "output_type": "execute_result"
    }
   ],
   "source": [
    "# for i in range(len(df1)):\n",
    "#     #print(i)\n",
    "#     if str(df1['flight']) == 'SWQ2816':\n",
    "#         print(df1)\n",
    "\n",
    "print(len(df11) + len(df22) + len(df33))\n",
    "df11.head(5)\n",
    "        "
   ]
  },
  {
   "cell_type": "code",
   "execution_count": 88,
   "metadata": {},
   "outputs": [],
   "source": [
    "#I can save these dataframes as CSV files and latter use it for analysis one by one\n",
    "df11.to_csv('file1.csv')\n",
    "df22.to_csv('file2.csv')\n",
    "df33.to_csv('file3.csv')"
   ]
  },
  {
   "cell_type": "code",
   "execution_count": 194,
   "metadata": {},
   "outputs": [],
   "source": [
    "#if i want to combine all these dataframes to a single one. I am trying cancatenation \n",
    "frames = [df11, df22, df33]\n",
    "result_df = pd.concat(frames, ignore_index=True)\n",
    "#Or i can save this dataframe as single CSV file combined"
   ]
  },
  {
   "cell_type": "code",
   "execution_count": 168,
   "metadata": {},
   "outputs": [],
   "source": [
    "result_df.to_csv('combined_dataset.csv')"
   ]
  },
  {
   "cell_type": "code",
   "execution_count": 187,
   "metadata": {},
   "outputs": [
    {
     "data": {
      "text/html": [
       "<div>\n",
       "<style scoped>\n",
       "    .dataframe tbody tr th:only-of-type {\n",
       "        vertical-align: middle;\n",
       "    }\n",
       "\n",
       "    .dataframe tbody tr th {\n",
       "        vertical-align: top;\n",
       "    }\n",
       "\n",
       "    .dataframe thead th {\n",
       "        text-align: right;\n",
       "    }\n",
       "</style>\n",
       "<table border=\"1\" class=\"dataframe\">\n",
       "  <thead>\n",
       "    <tr style=\"text-align: right;\">\n",
       "      <th></th>\n",
       "      <th>dt</th>\n",
       "      <th>flight</th>\n",
       "      <th>alt_baro</th>\n",
       "      <th>alt_geom</th>\n",
       "      <th>gs</th>\n",
       "      <th>track</th>\n",
       "      <th>geom_rate</th>\n",
       "      <th>squawk</th>\n",
       "      <th>emergency</th>\n",
       "      <th>category</th>\n",
       "      <th>...</th>\n",
       "      <th>nac_v</th>\n",
       "      <th>sil</th>\n",
       "      <th>sil_type</th>\n",
       "      <th>gva</th>\n",
       "      <th>sda</th>\n",
       "      <th>mlat</th>\n",
       "      <th>tisb</th>\n",
       "      <th>messages</th>\n",
       "      <th>seen</th>\n",
       "      <th>rssi</th>\n",
       "    </tr>\n",
       "  </thead>\n",
       "  <tbody>\n",
       "    <tr>\n",
       "      <th>0</th>\n",
       "      <td>2022-10-16 00:00:00.256840</td>\n",
       "      <td>ACA56</td>\n",
       "      <td>32975</td>\n",
       "      <td>32850</td>\n",
       "      <td>556.9</td>\n",
       "      <td>58.7</td>\n",
       "      <td>0</td>\n",
       "      <td>6343</td>\n",
       "      <td>none</td>\n",
       "      <td>A5</td>\n",
       "      <td>...</td>\n",
       "      <td>2</td>\n",
       "      <td>3</td>\n",
       "      <td>perhour</td>\n",
       "      <td>2</td>\n",
       "      <td>2</td>\n",
       "      <td>[]</td>\n",
       "      <td>[]</td>\n",
       "      <td>3933</td>\n",
       "      <td>0.2</td>\n",
       "      <td>-13.5</td>\n",
       "    </tr>\n",
       "    <tr>\n",
       "      <th>1</th>\n",
       "      <td>2022-10-16 00:00:01.278645</td>\n",
       "      <td>ACA56</td>\n",
       "      <td>32975</td>\n",
       "      <td>32850</td>\n",
       "      <td>556.9</td>\n",
       "      <td>58.7</td>\n",
       "      <td>0</td>\n",
       "      <td>6343</td>\n",
       "      <td>none</td>\n",
       "      <td>A5</td>\n",
       "      <td>...</td>\n",
       "      <td>2</td>\n",
       "      <td>3</td>\n",
       "      <td>perhour</td>\n",
       "      <td>2</td>\n",
       "      <td>2</td>\n",
       "      <td>[]</td>\n",
       "      <td>[]</td>\n",
       "      <td>3944</td>\n",
       "      <td>0.1</td>\n",
       "      <td>-11.7</td>\n",
       "    </tr>\n",
       "    <tr>\n",
       "      <th>2</th>\n",
       "      <td>2022-10-16 00:00:02.316310</td>\n",
       "      <td>ACA56</td>\n",
       "      <td>32975</td>\n",
       "      <td>32850</td>\n",
       "      <td>556.9</td>\n",
       "      <td>58.7</td>\n",
       "      <td>-64</td>\n",
       "      <td>6343</td>\n",
       "      <td>none</td>\n",
       "      <td>A5</td>\n",
       "      <td>...</td>\n",
       "      <td>2</td>\n",
       "      <td>3</td>\n",
       "      <td>perhour</td>\n",
       "      <td>2</td>\n",
       "      <td>2</td>\n",
       "      <td>[]</td>\n",
       "      <td>[]</td>\n",
       "      <td>3949</td>\n",
       "      <td>0.3</td>\n",
       "      <td>-11.2</td>\n",
       "    </tr>\n",
       "    <tr>\n",
       "      <th>3</th>\n",
       "      <td>2022-10-16 00:00:03.339960</td>\n",
       "      <td>ACA56</td>\n",
       "      <td>32975</td>\n",
       "      <td>32850</td>\n",
       "      <td>556.9</td>\n",
       "      <td>58.7</td>\n",
       "      <td>64</td>\n",
       "      <td>6343</td>\n",
       "      <td>none</td>\n",
       "      <td>A5</td>\n",
       "      <td>...</td>\n",
       "      <td>2</td>\n",
       "      <td>3</td>\n",
       "      <td>perhour</td>\n",
       "      <td>2</td>\n",
       "      <td>2</td>\n",
       "      <td>[]</td>\n",
       "      <td>[]</td>\n",
       "      <td>3984</td>\n",
       "      <td>0.1</td>\n",
       "      <td>-14.0</td>\n",
       "    </tr>\n",
       "    <tr>\n",
       "      <th>4</th>\n",
       "      <td>2022-10-16 00:00:04.456727</td>\n",
       "      <td>ACA56</td>\n",
       "      <td>32975</td>\n",
       "      <td>32850</td>\n",
       "      <td>556.9</td>\n",
       "      <td>58.7</td>\n",
       "      <td>64</td>\n",
       "      <td>6343</td>\n",
       "      <td>none</td>\n",
       "      <td>A5</td>\n",
       "      <td>...</td>\n",
       "      <td>2</td>\n",
       "      <td>3</td>\n",
       "      <td>perhour</td>\n",
       "      <td>2</td>\n",
       "      <td>2</td>\n",
       "      <td>[]</td>\n",
       "      <td>[]</td>\n",
       "      <td>3991</td>\n",
       "      <td>0.3</td>\n",
       "      <td>-13.9</td>\n",
       "    </tr>\n",
       "    <tr>\n",
       "      <th>5</th>\n",
       "      <td>2022-10-16 00:00:05.379903</td>\n",
       "      <td>ACA56</td>\n",
       "      <td>32975</td>\n",
       "      <td>32850</td>\n",
       "      <td>557.4</td>\n",
       "      <td>58.6</td>\n",
       "      <td>64</td>\n",
       "      <td>6343</td>\n",
       "      <td>none</td>\n",
       "      <td>A5</td>\n",
       "      <td>...</td>\n",
       "      <td>2</td>\n",
       "      <td>3</td>\n",
       "      <td>perhour</td>\n",
       "      <td>2</td>\n",
       "      <td>2</td>\n",
       "      <td>[]</td>\n",
       "      <td>[]</td>\n",
       "      <td>3999</td>\n",
       "      <td>0.4</td>\n",
       "      <td>-12.1</td>\n",
       "    </tr>\n",
       "    <tr>\n",
       "      <th>6</th>\n",
       "      <td>2022-10-16 00:00:06.398452</td>\n",
       "      <td>ACA56</td>\n",
       "      <td>32975</td>\n",
       "      <td>32850</td>\n",
       "      <td>557.4</td>\n",
       "      <td>58.6</td>\n",
       "      <td>0</td>\n",
       "      <td>6343</td>\n",
       "      <td>none</td>\n",
       "      <td>A5</td>\n",
       "      <td>...</td>\n",
       "      <td>2</td>\n",
       "      <td>3</td>\n",
       "      <td>perhour</td>\n",
       "      <td>2</td>\n",
       "      <td>2</td>\n",
       "      <td>[]</td>\n",
       "      <td>[]</td>\n",
       "      <td>4015</td>\n",
       "      <td>0.1</td>\n",
       "      <td>-12.4</td>\n",
       "    </tr>\n",
       "    <tr>\n",
       "      <th>7</th>\n",
       "      <td>2022-10-16 00:00:07.425991</td>\n",
       "      <td>ACA56</td>\n",
       "      <td>32975</td>\n",
       "      <td>32850</td>\n",
       "      <td>557.4</td>\n",
       "      <td>58.6</td>\n",
       "      <td>0</td>\n",
       "      <td>6343</td>\n",
       "      <td>none</td>\n",
       "      <td>A5</td>\n",
       "      <td>...</td>\n",
       "      <td>2</td>\n",
       "      <td>3</td>\n",
       "      <td>perhour</td>\n",
       "      <td>2</td>\n",
       "      <td>2</td>\n",
       "      <td>[]</td>\n",
       "      <td>[]</td>\n",
       "      <td>4042</td>\n",
       "      <td>0.2</td>\n",
       "      <td>-12.5</td>\n",
       "    </tr>\n",
       "    <tr>\n",
       "      <th>8</th>\n",
       "      <td>2022-10-16 00:00:08.444883</td>\n",
       "      <td>ACA56</td>\n",
       "      <td>33000</td>\n",
       "      <td>32875</td>\n",
       "      <td>556.5</td>\n",
       "      <td>58.6</td>\n",
       "      <td>0</td>\n",
       "      <td>6343</td>\n",
       "      <td>none</td>\n",
       "      <td>A5</td>\n",
       "      <td>...</td>\n",
       "      <td>2</td>\n",
       "      <td>3</td>\n",
       "      <td>perhour</td>\n",
       "      <td>2</td>\n",
       "      <td>2</td>\n",
       "      <td>[]</td>\n",
       "      <td>[]</td>\n",
       "      <td>4080</td>\n",
       "      <td>0.1</td>\n",
       "      <td>-15.2</td>\n",
       "    </tr>\n",
       "    <tr>\n",
       "      <th>9</th>\n",
       "      <td>2022-10-16 00:00:09.461762</td>\n",
       "      <td>ACA56</td>\n",
       "      <td>33000</td>\n",
       "      <td>32875</td>\n",
       "      <td>556.5</td>\n",
       "      <td>58.6</td>\n",
       "      <td>-64</td>\n",
       "      <td>6343</td>\n",
       "      <td>none</td>\n",
       "      <td>A5</td>\n",
       "      <td>...</td>\n",
       "      <td>2</td>\n",
       "      <td>3</td>\n",
       "      <td>perhour</td>\n",
       "      <td>2</td>\n",
       "      <td>2</td>\n",
       "      <td>[]</td>\n",
       "      <td>[]</td>\n",
       "      <td>4131</td>\n",
       "      <td>0.0</td>\n",
       "      <td>-12.2</td>\n",
       "    </tr>\n",
       "  </tbody>\n",
       "</table>\n",
       "<p>10 rows × 32 columns</p>\n",
       "</div>"
      ],
      "text/plain": [
       "                           dt    flight alt_baro alt_geom     gs  track  \\\n",
       "0  2022-10-16 00:00:00.256840  ACA56       32975    32850  556.9   58.7   \n",
       "1  2022-10-16 00:00:01.278645  ACA56       32975    32850  556.9   58.7   \n",
       "2  2022-10-16 00:00:02.316310  ACA56       32975    32850  556.9   58.7   \n",
       "3  2022-10-16 00:00:03.339960  ACA56       32975    32850  556.9   58.7   \n",
       "4  2022-10-16 00:00:04.456727  ACA56       32975    32850  556.9   58.7   \n",
       "5  2022-10-16 00:00:05.379903  ACA56       32975    32850  557.4   58.6   \n",
       "6  2022-10-16 00:00:06.398452  ACA56       32975    32850  557.4   58.6   \n",
       "7  2022-10-16 00:00:07.425991  ACA56       32975    32850  557.4   58.6   \n",
       "8  2022-10-16 00:00:08.444883  ACA56       33000    32875  556.5   58.6   \n",
       "9  2022-10-16 00:00:09.461762  ACA56       33000    32875  556.5   58.6   \n",
       "\n",
       "  geom_rate squawk emergency category  ...  nac_v sil  sil_type  gva  sda  \\\n",
       "0         0   6343      none       A5  ...      2   3   perhour    2    2   \n",
       "1         0   6343      none       A5  ...      2   3   perhour    2    2   \n",
       "2       -64   6343      none       A5  ...      2   3   perhour    2    2   \n",
       "3        64   6343      none       A5  ...      2   3   perhour    2    2   \n",
       "4        64   6343      none       A5  ...      2   3   perhour    2    2   \n",
       "5        64   6343      none       A5  ...      2   3   perhour    2    2   \n",
       "6         0   6343      none       A5  ...      2   3   perhour    2    2   \n",
       "7         0   6343      none       A5  ...      2   3   perhour    2    2   \n",
       "8         0   6343      none       A5  ...      2   3   perhour    2    2   \n",
       "9       -64   6343      none       A5  ...      2   3   perhour    2    2   \n",
       "\n",
       "   mlat tisb messages  seen  rssi  \n",
       "0    []   []     3933   0.2 -13.5  \n",
       "1    []   []     3944   0.1 -11.7  \n",
       "2    []   []     3949   0.3 -11.2  \n",
       "3    []   []     3984   0.1 -14.0  \n",
       "4    []   []     3991   0.3 -13.9  \n",
       "5    []   []     3999   0.4 -12.1  \n",
       "6    []   []     4015   0.1 -12.4  \n",
       "7    []   []     4042   0.2 -12.5  \n",
       "8    []   []     4080   0.1 -15.2  \n",
       "9    []   []     4131   0.0 -12.2  \n",
       "\n",
       "[10 rows x 32 columns]"
      ]
     },
     "execution_count": 187,
     "metadata": {},
     "output_type": "execute_result"
    }
   ],
   "source": [
    "# # result_df.dt[2]\n",
    "# result_df.head(10)"
   ]
  },
  {
   "cell_type": "code",
   "execution_count": 163,
   "metadata": {},
   "outputs": [
    {
     "name": "stdout",
     "output_type": "stream",
     "text": [
      "['ACA56   ' 'UAL140  ' 'LOT4NL  ' 'ACA858  ' 'AAL208  ' 'AAL48   '\n",
      " 'AIC103  ' 'UPS204  ' 'CFC2555 ' 'AAL90   ' 'AAL41   ' 'ACA881  '\n",
      " 'BBC305  ' 'ACA807  ' 'AIC104  ' 'ACA801  ' 'AAL37   ' 'ACA855  '\n",
      " 'WJA4    ' 'JAL7    ' 'GPD816  ' 'CFC4060 ' 'UAL944  ' 'ACA80   '\n",
      " 'BAW223N ' 'THY31K  ' 'ACA834  ' 'KLM48   ' 'ACA886  ' 'ACA854  '\n",
      " 'ACA880  ' 'AAL86   ' 'BAW5CA  ' 'CGOHI   ' 'BBC306  ' 'UAL987  '\n",
      " 'ACA779  ' 'ACA425  ' 'AAL46   ' 'WJA3    ' 'CLEAN16 ' 'BAW170  '\n",
      " 'ACA800  ' 'RJA264D ' 'AAL98   ' 'UAL5    ' 'CFGMQ   ' 'CFAMI   '\n",
      " 'CGECT   ' 'CGJVM   ' 'ACA319  ' 'BAW26E  ' 'KLM31   ' 'ACA887  '\n",
      " 'ACA835  ' 'BAW9L   ' 'ACA59   ' 'ACA774  ' 'ACA81   ' 'CFBDT   '\n",
      " 'RCH216  ' 'AAL133  ' 'ACA419  ' 'RJA269R ' 'AAL110  ' 'KLM86   '\n",
      " 'AAL240  ' 'UAL970  ' 'BAW99   ' 'ACA859  ' 'LOT45   ' 'UAL909  '\n",
      " 'AAL150  ' 'RJA270  ' 'UAL907  ' 'UAL182  ' 'MAL7054 ' 'MAL7082 '\n",
      " 'BAW98   ' 'ACA806  ' 'WJA14   ' 'BAW24R  ' 'MAL8062 ' 'MPH6516 '\n",
      " 'VIR156T ' 'MAL8082 ' 'CGDBJ   ' 'R20880  ' 'AMX002  ' 'CGMPM   '\n",
      " 'ACA417  ' 'ACA416  ' 'WJA15   ' 'FDX3670 ' 'ACA422  ' 'ELY032  '\n",
      " 'UAL972  ' 'RJA272  ' 'BAW222  ']\n"
     ]
    }
   ],
   "source": [
    "print(result_df.flight.unique())"
   ]
  },
  {
   "cell_type": "code",
   "execution_count": 164,
   "metadata": {},
   "outputs": [
    {
     "name": "stdout",
     "output_type": "stream",
     "text": [
      "99\n"
     ]
    }
   ],
   "source": [
    "print(len(result_df.flight.unique()))\n",
    "## There are total of 99 unique number flights registered for this recorded data in file."
   ]
  },
  {
   "cell_type": "code",
   "execution_count": 165,
   "metadata": {},
   "outputs": [
    {
     "name": "stdout",
     "output_type": "stream",
     "text": [
      "Index(['dt', 'flight', 'alt_baro', 'alt_geom', 'gs', 'track', 'geom_rate',\n",
      "       'squawk', 'emergency', 'category', 'nav_qnh', 'nav_altitude_mcp',\n",
      "       'nav_heading', 'nav_modes', 'lat', 'lon', 'nic', 'rc', 'seen_pos',\n",
      "       'version', 'nic_baro', 'nac_p', 'nac_v', 'sil', 'sil_type', 'gva',\n",
      "       'sda', 'mlat', 'tisb', 'messages', 'seen', 'rssi'],\n",
      "      dtype='object')\n"
     ]
    }
   ],
   "source": [
    "# print(df11.dt[1])\n",
    "print(result_df.keys())"
   ]
  },
  {
   "cell_type": "code",
   "execution_count": 193,
   "metadata": {},
   "outputs": [
    {
     "data": {
      "text/plain": [
       "2    ACA56   \n",
       "2    UAL5    \n",
       "2    ACA56   \n",
       "Name: flight, dtype: object"
      ]
     },
     "execution_count": 193,
     "metadata": {},
     "output_type": "execute_result"
    }
   ],
   "source": [
    "# len(df11.dt)\n",
    "# for d in range(len(df11.dt)):\n",
    "#     print(d)\n",
    "result_df.flight[2]"
   ]
  },
  {
   "cell_type": "code",
   "execution_count": 195,
   "metadata": {},
   "outputs": [
    {
     "name": "stdout",
     "output_type": "stream",
     "text": [
      "                             dt     gs  lat  lon\n",
      "0    2022-10-16 00:00:00.256840  556.9  NaN  NaN\n",
      "1    2022-10-16 00:00:01.278645  556.9  NaN  NaN\n",
      "2    2022-10-16 00:00:02.316310  556.9  NaN  NaN\n",
      "3    2022-10-16 00:00:03.339960  556.9  NaN  NaN\n",
      "4    2022-10-16 00:00:04.456727  556.9  NaN  NaN\n",
      "..                          ...    ...  ...  ...\n",
      "751  2022-10-18 00:21:55.960949  560.4  NaN  NaN\n",
      "752  2022-10-18 00:21:57.041368  560.4  NaN  NaN\n",
      "753  2022-10-18 00:21:58.064901  560.4  NaN  NaN\n",
      "754  2022-10-18 00:21:59.090024  560.4  NaN  NaN\n",
      "755  2022-10-18 00:22:00.147987  560.4  NaN  NaN\n",
      "\n",
      "[756 rows x 4 columns]\n"
     ]
    }
   ],
   "source": [
    "# for f in df11.flight.unique():\n",
    "#Looking for one flight speed in mph vs different time from the start\n",
    "\n",
    "fACA56_gs = pd.DataFrame(columns=['dt','gs', 'lat','lon'])\n",
    "for d in range(len(result_df.dt)):\n",
    "    if result_df.flight[d] == 'ACA56   ':\n",
    "        #print(df11.dt[d])\n",
    "        fACA56_gs = fACA56_gs.append({'dt':result_df.dt[d],'gs':result_df['gs'][d]}, ignore_index=True)\n",
    "        #print(f_gs)\n",
    "#print(fACA56_gs)"
   ]
  },
  {
   "cell_type": "code",
   "execution_count": null,
   "metadata": {},
   "outputs": [],
   "source": []
  },
  {
   "cell_type": "code",
   "execution_count": 196,
   "metadata": {},
   "outputs": [
    {
     "data": {
      "image/png": "[encoded data removed]",
      "text/plain": [
       "<Figure size 640x480 with 1 Axes>"
      ]
     },
     "metadata": {},
     "output_type": "display_data"
    }
   ],
   "source": [
    "import matplotlib.pyplot as plt\n",
    "x = range(len(fACA56_gs['dt']))\n",
    "plt.plot(x, fACA56_gs['gs'] * 1.151, color='red', label=\"mbps\")\n",
    "plt.tight_layout()\n",
    "#plt.set_index(\"dt\",drop=True,inplace=True)\n",
    "plt.xticks(rotation=45)\n",
    "plt.title('Airoplane Ground Speed vs Time', fontsize=14)\n",
    "plt.xlabel(\"Time\", fontsize=8)\n",
    "plt.ylabel('speed (mph)', fontsize=8)\n",
    "plt.grid(False)\n",
    "plt.show()\n"
   ]
  }
 ],
 "metadata": {
  "kernelspec": {
   "display_name": "Python 3 (ipykernel)",
   "language": "python",
   "name": "python3"
  },
  "language_info": {
   "codemirror_mode": {
    "name": "ipython",
    "version": 3
   },
   "file_extension": ".py",
   "mimetype": "text/x-python",
   "name": "python",
   "nbconvert_exporter": "python",
   "pygments_lexer": "ipython3",
   "version": "3.8.5"
  },
  "vscode": {
   "interpreter": {
    "hash": "6187c59154eb8fe6142a8fe759ac430eba9ff7a028fb09ee35055d8121aa7d78"
   }
  }
 },
 "nbformat": 4,
 "nbformat_minor": 4
}
