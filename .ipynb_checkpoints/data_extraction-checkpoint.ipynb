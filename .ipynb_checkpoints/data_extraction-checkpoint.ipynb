{
 "cells": [
  {
   "cell_type": "code",
   "execution_count": 55,
   "metadata": {},
   "outputs": [],
   "source": [
    "import json\n",
    "import pandas as pd"
   ]
  },
  {
   "cell_type": "code",
   "execution_count": 56,
   "metadata": {},
   "outputs": [],
   "source": [
    "def data_extraction(file):\n",
    "    f = open(file,\"r\")\n",
    "    #n=0\n",
    "    data = []\n",
    "    #convert each line to dictionary and append it to list of dictionaries\n",
    "    for line in f:\n",
    "        dic = json.loads(line)\n",
    "        data.append(dic)\n",
    "#         if n > 10:\n",
    "#             break\n",
    "#         n+=1\n",
    "    return data"
   ]
  },
  {
   "cell_type": "code",
   "execution_count": 57,
   "metadata": {},
   "outputs": [],
   "source": [
    "#As i have checked for data format\n",
    "f1 = \"adsblog_ny0.txt.2022101600\"\n",
    "f2 = \"adsblog_ny0.txt.2022101700\"\n",
    "f3 = \"adsblog_ny0.txt.2022101800\"\n",
    "\n",
    "data1 = data_extraction(f1)\n",
    "data2 = data_extraction(f2)\n",
    "data3 = data_extraction(f3)\n"
   ]
  },
  {
   "cell_type": "code",
   "execution_count": 58,
   "metadata": {},
   "outputs": [
    {
     "name": "stdout",
     "output_type": "stream",
     "text": [
      "{'type': 'new_adsb', 'dt': '2022-10-17 00:00:00.954473', 'payload': {'hex': 'a2cb32', 'flight': 'UAL5    ', 'alt_baro': 38975, 'alt_geom': 38650, 'gs': 528.4, 'track': 52.5, 'geom_rate': 0, 'squawk': '2416', 'emergency': 'none', 'category': 'A5', 'nav_qnh': 1012.8, 'nav_altitude_mcp': 39008, 'nav_heading': 63.3, 'nav_modes': ['autopilot', 'vnav', 'lnav', 'tcas'], 'lat': 44.192459, 'lon': -76.272775, 'nic': 8, 'rc': 186, 'seen_pos': 1.7, 'version': 2, 'nic_baro': 1, 'nac_p': 9, 'nac_v': 1, 'sil': 3, 'sil_type': 'perhour', 'gva': 2, 'sda': 2, 'mlat': [], 'tisb': [], 'messages': 228, 'seen': 0.1, 'rssi': -20.0}}\n",
      "{'type': 'new_adsb', 'dt': '2022-10-17 00:00:00.958384', 'payload': {'hex': 'c06120', 'flight': 'ACA824  ', 'alt_baro': 33000, 'alt_geom': 32625, 'gs': 526.0, 'ias': 298, 'tas': 478, 'mach': 0.832, 'track': 69.3, 'track_rate': 0.0, 'roll': -0.4, 'mag_heading': 85.4, 'baro_rate': 64, 'geom_rate': 64, 'squawk': '6347', 'emergency': 'none', 'category': 'A5', 'nav_qnh': 1012.8, 'nav_altitude_mcp': 32992, 'lat': 44.771568, 'lon': -75.197464, 'nic': 8, 'rc': 186, 'seen_pos': 0.1, 'version': 2, 'nic_baro': 1, 'nac_p': 9, 'nac_v': 1, 'sil': 3, 'sil_type': 'perhour', 'gva': 2, 'sda': 3, 'mlat': [], 'tisb': [], 'messages': 1853, 'seen': 0.1, 'rssi': -8.4}}\n",
      "{'type': 'new_adsb', 'dt': '2022-10-17 00:00:00.958724', 'payload': {'hex': 'aa998a', 'flight': 'N782SF  ', 'alt_baro': 21600, 'alt_geom': 21475, 'gs': 435.6, 'ias': 298, 'tas': 418, 'mach': 0.668, 'track': 68.0, 'track_rate': 0.0, 'roll': 0.0, 'mag_heading': 82.1, 'baro_rate': -2208, 'geom_rate': -2176, 'squawk': '1560', 'emergency': 'none', 'category': 'A3', 'nav_qnh': 1012.8, 'nav_altitude_mcp': 15008, 'nav_altitude_fms': 3296, 'nav_heading': 300.2, 'lat': 44.006104, 'lon': -74.805844, 'nic': 8, 'rc': 186, 'seen_pos': 0.5, 'version': 2, 'nic_baro': 1, 'nac_p': 10, 'nac_v': 1, 'sil': 3, 'sil_type': 'perhour', 'gva': 2, 'sda': 2, 'mlat': [], 'tisb': [], 'messages': 2087, 'seen': 0.5, 'rssi': -21.1}}\n",
      "{'type': 'new_adsb', 'dt': '2022-10-17 00:00:01.977741', 'payload': {'hex': 'a2cb32', 'flight': 'UAL5    ', 'alt_baro': 39000, 'alt_geom': 38675, 'gs': 528.4, 'track': 52.5, 'geom_rate': 0, 'squawk': '2416', 'emergency': 'none', 'category': 'A5', 'nav_qnh': 1012.8, 'nav_altitude_mcp': 39008, 'nav_heading': 63.3, 'nav_modes': ['autopilot', 'vnav', 'lnav', 'tcas'], 'lat': 44.196625, 'lon': -76.265259, 'nic': 8, 'rc': 186, 'seen_pos': 0.0, 'version': 2, 'nic_baro': 1, 'nac_p': 9, 'nac_v': 1, 'sil': 3, 'sil_type': 'perhour', 'gva': 2, 'sda': 2, 'mlat': [], 'tisb': [], 'messages': 256, 'seen': 0.0, 'rssi': -19.5}}\n",
      "{'type': 'new_adsb', 'dt': '2022-10-17 00:00:01.977958', 'payload': {'hex': 'c06120', 'flight': 'ACA824  ', 'alt_baro': 33000, 'alt_geom': 32625, 'gs': 526.0, 'ias': 297, 'tas': 478, 'mach': 0.832, 'track': 69.3, 'track_rate': 0.0, 'roll': -0.2, 'mag_heading': 85.4, 'baro_rate': 0, 'geom_rate': 32, 'squawk': '6347', 'emergency': 'none', 'category': 'A5', 'nav_qnh': 1012.8, 'nav_altitude_mcp': 32992, 'lat': 44.77236, 'lon': -75.194449, 'nic': 8, 'rc': 186, 'seen_pos': 0.2, 'version': 2, 'nic_baro': 1, 'nac_p': 9, 'nac_v': 1, 'sil': 3, 'sil_type': 'perhour', 'gva': 2, 'sda': 3, 'mlat': [], 'tisb': [], 'messages': 1886, 'seen': 0.2, 'rssi': -5.0}}\n"
     ]
    }
   ],
   "source": [
    "for i in range(5):\n",
    "    print(data2[i])"
   ]
  },
  {
   "cell_type": "code",
   "execution_count": 59,
   "metadata": {},
   "outputs": [],
   "source": [
    "#converting list of dic. to pandas dataframe for visualization\n",
    "df1 = pd.DataFrame(data1)\n",
    "df2 = pd.DataFrame(data2)\n",
    "df3 = pd.DataFrame(data3)"
   ]
  },
  {
   "cell_type": "code",
   "execution_count": 60,
   "metadata": {},
   "outputs": [
    {
     "name": "stdout",
     "output_type": "stream",
     "text": [
      "            type                          dt  \\\n",
      "0       new_adsb  2022-10-16 00:00:00.256840   \n",
      "1       new_adsb  2022-10-16 00:00:00.258215   \n",
      "2       new_adsb  2022-10-16 00:00:00.258311   \n",
      "3       new_adsb  2022-10-16 00:00:01.278645   \n",
      "4       new_adsb  2022-10-16 00:00:01.278767   \n",
      "...          ...                         ...   \n",
      "373887  new_adsb  2022-10-16 23:59:58.899170   \n",
      "373888  new_adsb  2022-10-16 23:59:58.902198   \n",
      "373889  new_adsb  2022-10-16 23:59:59.923401   \n",
      "373890  new_adsb  2022-10-16 23:59:59.923699   \n",
      "373891  new_adsb  2022-10-16 23:59:59.923873   \n",
      "\n",
      "                                                  payload  \n",
      "0       {'hex': 'c02ec7', 'flight': 'ACA56   ', 'alt_b...  \n",
      "1       {'hex': '0d0acd', 'flight': 'AMX637  ', 'alt_b...  \n",
      "2       {'hex': '0d0ae3', 'flight': 'XAFUF   ', 'alt_b...  \n",
      "3       {'hex': 'c02ec7', 'flight': 'ACA56   ', 'alt_b...  \n",
      "4       {'hex': '0d0acd', 'flight': 'AMX637  ', 'alt_b...  \n",
      "...                                                   ...  \n",
      "373887  {'hex': 'c06120', 'flight': 'ACA824  ', 'alt_b...  \n",
      "373888  {'hex': 'aa998a', 'flight': 'N782SF  ', 'alt_b...  \n",
      "373889  {'hex': 'a2cb32', 'flight': 'UAL5    ', 'alt_b...  \n",
      "373890  {'hex': 'c06120', 'flight': 'ACA824  ', 'alt_b...  \n",
      "373891  {'hex': 'aa998a', 'flight': 'N782SF  ', 'alt_b...  \n",
      "\n",
      "[373892 rows x 3 columns]\n"
     ]
    }
   ],
   "source": [
    "print(df1)"
   ]
  },
  {
   "cell_type": "code",
   "execution_count": 61,
   "metadata": {},
   "outputs": [
    {
     "name": "stdout",
     "output_type": "stream",
     "text": [
      "0         {'hex': 'c02ec7', 'flight': 'ACA56   ', 'alt_b...\n",
      "1         {'hex': '0d0acd', 'flight': 'AMX637  ', 'alt_b...\n",
      "2         {'hex': '0d0ae3', 'flight': 'XAFUF   ', 'alt_b...\n",
      "3         {'hex': 'c02ec7', 'flight': 'ACA56   ', 'alt_b...\n",
      "4         {'hex': '0d0acd', 'flight': 'AMX637  ', 'alt_b...\n",
      "                                ...                        \n",
      "373887    {'hex': 'c06120', 'flight': 'ACA824  ', 'alt_b...\n",
      "373888    {'hex': 'aa998a', 'flight': 'N782SF  ', 'alt_b...\n",
      "373889    {'hex': 'a2cb32', 'flight': 'UAL5    ', 'alt_b...\n",
      "373890    {'hex': 'c06120', 'flight': 'ACA824  ', 'alt_b...\n",
      "373891    {'hex': 'aa998a', 'flight': 'N782SF  ', 'alt_b...\n",
      "Name: payload, Length: 373892, dtype: object\n"
     ]
    }
   ],
   "source": [
    "print(df1['payload'])"
   ]
  },
  {
   "cell_type": "code",
   "execution_count": 62,
   "metadata": {},
   "outputs": [
    {
     "name": "stdout",
     "output_type": "stream",
     "text": [
      "ACA56   \n"
     ]
    }
   ],
   "source": [
    "print(df1['payload'][0]['flight'])"
   ]
  },
  {
   "cell_type": "code",
   "execution_count": 63,
   "metadata": {},
   "outputs": [
    {
     "name": "stdout",
     "output_type": "stream",
     "text": [
      "0         2022-10-16 00:00:00.256840\n",
      "1         2022-10-16 00:00:00.258215\n",
      "2         2022-10-16 00:00:00.258311\n",
      "3         2022-10-16 00:00:01.278645\n",
      "4         2022-10-16 00:00:01.278767\n",
      "                     ...            \n",
      "373887    2022-10-16 23:59:58.899170\n",
      "373888    2022-10-16 23:59:58.902198\n",
      "373889    2022-10-16 23:59:59.923401\n",
      "373890    2022-10-16 23:59:59.923699\n",
      "373891    2022-10-16 23:59:59.923873\n",
      "Name: dt, Length: 373892, dtype: object\n"
     ]
    }
   ],
   "source": [
    "print(df1['dt'])"
   ]
  },
  {
   "cell_type": "code",
   "execution_count": 64,
   "metadata": {},
   "outputs": [
    {
     "name": "stdout",
     "output_type": "stream",
     "text": [
      "True\n",
      "dict_keys(['hex', 'flight', 'alt_baro', 'alt_geom', 'gs', 'track', 'geom_rate', 'squawk', 'emergency', 'category', 'nav_qnh', 'nav_altitude_mcp', 'nav_heading', 'nav_modes', 'lat', 'lon', 'nic', 'rc', 'seen_pos', 'version', 'nic_baro', 'nac_p', 'nac_v', 'sil', 'sil_type', 'gva', 'sda', 'mlat', 'tisb', 'messages', 'seen', 'rssi'])\n",
      "--------------------------\n",
      "dict_keys(['hex', 'flight', 'alt_baro', 'alt_geom', 'gs', 'ias', 'tas', 'mach', 'track', 'track_rate', 'roll', 'mag_heading', 'baro_rate', 'geom_rate', 'squawk', 'emergency', 'category', 'nav_qnh', 'nav_altitude_mcp', 'nav_heading', 'nav_modes', 'lat', 'lon', 'nic', 'rc', 'seen_pos', 'version', 'nic_baro', 'nac_p', 'nac_v', 'sil', 'sil_type', 'gva', 'sda', 'mlat', 'tisb', 'messages', 'seen', 'rssi'])\n",
      "--------------------------\n",
      "dict_keys(['hex', 'flight', 'alt_baro', 'alt_geom', 'gs', 'ias', 'tas', 'mach', 'track', 'track_rate', 'roll', 'mag_heading', 'baro_rate', 'geom_rate', 'squawk', 'emergency', 'category', 'nav_qnh', 'nav_altitude_mcp', 'nav_heading', 'lat', 'lon', 'nic', 'rc', 'seen_pos', 'version', 'nic_baro', 'nac_p', 'nac_v', 'sil', 'sil_type', 'gva', 'sda', 'mlat', 'tisb', 'messages', 'seen', 'rssi'])\n"
     ]
    }
   ],
   "source": [
    "print('flight' in df1['payload'][0].keys())\n",
    "print(df2['payload'][0].keys())\n",
    "print(\"--------------------------\")\n",
    "print(df1['payload'][0].keys())\n",
    "print(\"--------------------------\")\n",
    "print(df3['payload'][0].keys())"
   ]
  },
  {
   "cell_type": "code",
   "execution_count": 65,
   "metadata": {},
   "outputs": [],
   "source": [
    "#extra = ['ias', 'tas', 'mach', 'track_rate', 'roll', 'mag_heading', 'baro_rate']"
   ]
  },
  {
   "cell_type": "code",
   "execution_count": 66,
   "metadata": {},
   "outputs": [],
   "source": [
    "# first_dict = df1['payload'][0].keys()\n",
    "# second_dict = df2['payload'][0].keys()\n",
    "# #value = { k : second_dict[k] for k in set(second_dict) - set(first_dict) }\n",
    "# dict(first_dict ^ second_dict)"
   ]
  },
  {
   "cell_type": "code",
   "execution_count": 67,
   "metadata": {},
   "outputs": [],
   "source": [
    "for l in range(len(df1)): \n",
    "    #print('flight' in df['payload'][l].keys())\n",
    "    if 'flight' in df1['payload'][1].keys():\n",
    "        #print(True)\n",
    "        pass\n"
   ]
  },
  {
   "cell_type": "code",
   "execution_count": 76,
   "metadata": {},
   "outputs": [],
   "source": [
    "def dataframe_setup(df):\n",
    "    #df1 = pd.DataFrame(columns=['dt', 'flight','alt_baro','alt_baro', 'alt_geom', 'gs', 'ias', 'tas', 'mach', 'track', 'track_rate', 'roll', 'mag_heading', 'baro_rate', 'geom_rate', 'squawk', 'emergency', 'category', 'nav_qnh', 'nav_altitude_mcp', 'nav_heading', 'lat', 'lon', 'nic', 'rc', 'seen_pos', 'version', 'nic_baro', 'nac_p', 'nac_v', 'sil', 'sil_type', 'gva', 'sda', 'mlat', 'tisb', 'messages', 'seen', 'rssi'])\n",
    "    df1 = pd.DataFrame(columns=['dt', 'flight', 'alt_baro', 'alt_geom', 'gs', 'track', 'geom_rate', 'squawk', 'emergency', 'category', 'nav_qnh', 'nav_altitude_mcp', 'nav_heading', 'nav_modes', 'lat', 'lon', 'nic', 'rc', 'seen_pos', 'version', \n",
    "                            'nic_baro', 'nac_p', 'nac_v', 'sil', 'sil_type', 'gva', 'sda', 'mlat', 'tisb', 'messages', 'seen', 'rssi'])\n",
    "    for i in range(len(df)):\n",
    "        if 'flight' in df['payload'][i].keys() and 'geom_rate' in df['payload'][i].keys() and 'nav_heading' in df['payload'][i].keys() and 'squawk' in df['payload'][i].keys() and 'emergency' in df['payload'][i].keys() and 'gva' in df['payload'][i].keys() and 'lat' in df['payload'][i].keys():\n",
    "            df1 = df1.append({'dt': df['dt'], 'flight': df['payload'][i]['flight'], 'alt_baro': df['payload'][i]['alt_baro'], 'alt_geom': df['payload'][i]['alt_geom'], 'gs': df['payload'][i]['gs'],'track': df['payload'][i]['track'],\n",
    "                              'geom_rate': df['payload'][i]['geom_rate'], 'squawk': df['payload'][i]['squawk'], 'emergency': df['payload'][i]['emergency'], 'category': df['payload'][i]['category'], 'nav_qnh': df['payload'][i]['nav_qnh'], \n",
    "                              'nav_altitude_mcp': df['payload'][i]['nav_altitude_mcp'], 'nav_heading': df['payload'][i]['nav_heading'], 'lat': df['payload'][i]['lat'], 'lon': df['payload'][i]['lon'], 'nic': df['payload'][i]['nic'], \n",
    "                              'rc': df['payload'][i]['rc'], 'seen_pos': df['payload'][i]['seen_pos'], 'version': df['payload'][i]['version'], 'nic_baro': df['payload'][i]['nic_baro'], 'nac_p': df['payload'][i]['nac_p'], \n",
    "                              'nac_v': df['payload'][i]['nac_v'], 'sil': df['payload'][i]['sil'], 'sil_type': df['payload'][i]['sil_type'], 'gva': df['payload'][i]['gva'], 'sda': df['payload'][i]['sda'], 'mlat': df['payload'][i]['mlat'],\n",
    "                              'tisb': df['payload'][i]['tisb'], 'messages': df['payload'][i]['messages'], 'seen': df['payload'][i]['seen'], 'rssi': df['payload'][i]['rssi']}, ignore_index=True)\n",
    "            #print(df1)\n",
    "    return df1"
   ]
  },
  {
   "cell_type": "code",
   "execution_count": null,
   "metadata": {},
   "outputs": [],
   "source": []
  },
  {
   "cell_type": "code",
   "execution_count": 69,
   "metadata": {},
   "outputs": [],
   "source": [
    "# df1 = pd.DataFrame()\n",
    "# print(df1)\n",
    "# df1.append(df['payload'][1].keys())\n",
    "# df1 = pd.DataFrame(columns=['dt', 'flight','alt_baro','alt_baro', 'alt_geom', 'gs', 'ias', 'tas', 'mach', 'track', 'track_rate', 'roll', 'mag_heading', 'baro_rate', 'geom_rate', 'squawk', 'emergency', 'category', 'nav_qnh', 'nav_altitude_mcp', 'nav_heading', 'lat', 'lon', 'nic', 'rc', 'seen_pos', 'version', 'nic_baro', 'nac_p', 'nac_v', 'sil', 'sil_type', 'gva', 'sda', 'mlat', 'tisb', 'messages', 'seen', 'rssi'])\n",
    "\n",
    "# for i in range(len(df)):\n",
    "#     if 'flight' in df['payload'][i].keys():\n",
    "#         df1 = df1.append({'dt': df['dt'], 'flight': df['payload'][i]['flight'], 'alt_baro': df['payload'][i]['alt_baro'], 'alt_geom': df['payload'][i]['alt_geom'], 'gs': df['payload'][i]['gs'], 'ias': df['payload'][i]['ias'], 'tas': df['payload'][i]['tas'], 'mach': df['payload'][i]['mach'], 'track': df['payload'][i]['track'], 'track_rate': df['payload'][i]['track_rate'], 'roll': df['payload'][i]['roll'], 'mag_heading': df['payload'][i]['mag_heading'], 'baro_rate': df['payload'][i]['baro_rate'], 'geom_rate': df['payload'][i]['geom_rate'], 'squawk': df['payload'][i]['squawk'], 'emergency': df['payload'][i]['emergency'], 'category': df['payload'][i]['category'], 'nav_qnh': df['payload'][i]['nav_qnh'], 'nav_altitude_mcp': df['payload'][i]['nav_altitude_mcp'], 'nav_heading': df['payload'][i]['nav_heading'], 'lat': df['payload'][i]['lat'], 'lon': df['payload'][i]['lon'], 'nic': df['payload'][i]['nic'], 'rc': df['payload'][i]['rc'], 'seen_pos': df['payload'][i]['seen_pos'], 'version': df['payload'][i]['version'], 'nic_baro': df['payload'][i]['nic_baro'], 'nac_p': df['payload'][i]['nac_p'], 'nac_v': df['payload'][i]['nac_v'], 'sil': df['payload'][i]['sil'], 'sil_type': df['payload'][i]['sil_type'], 'gva': df['payload'][i]['gva'], 'sda': df['payload'][i]['sda'], 'mlat': df['payload'][i]['mlat'], 'tisb': df['payload'][i]['tisb'], 'messages': df['payload'][i]['messages'], 'seen': df['payload'][i]['seen'], 'rssi': df['payload'][i]['rssi']}, ignore_index=True)\n",
    "\n",
    "# print(df1['lat'])\n",
    "# pd.concat([pd.DataFrame([i,e], columns=['dt', 'flight']) for i in range(len(df))],ignore_index=True)"
   ]
  },
  {
   "cell_type": "code",
   "execution_count": 77,
   "metadata": {},
   "outputs": [
    {
     "ename": "KeyError",
     "evalue": "'lat'",
     "output_type": "error",
     "traceback": [
      "\u001b[1;31m---------------------------------------------------------------------------\u001b[0m",
      "\u001b[1;31mKeyError\u001b[0m                                  Traceback (most recent call last)",
      "Cell \u001b[1;32mIn[77], line 1\u001b[0m\n\u001b[1;32m----> 1\u001b[0m df11 \u001b[38;5;241m=\u001b[39m \u001b[43mdataframe_setup\u001b[49m\u001b[43m(\u001b[49m\u001b[43mdf1\u001b[49m\u001b[43m)\u001b[49m\n\u001b[0;32m      2\u001b[0m df22 \u001b[38;5;241m=\u001b[39m dataframe_setup(df2)\n\u001b[0;32m      3\u001b[0m df33 \u001b[38;5;241m=\u001b[39m dataframe_setup(df3)\n",
      "Cell \u001b[1;32mIn[76], line 9\u001b[0m, in \u001b[0;36mdataframe_setup\u001b[1;34m(df)\u001b[0m\n\u001b[0;32m      5\u001b[0m \u001b[38;5;28;01mfor\u001b[39;00m i \u001b[38;5;129;01min\u001b[39;00m \u001b[38;5;28mrange\u001b[39m(\u001b[38;5;28mlen\u001b[39m(df)):\n\u001b[0;32m      6\u001b[0m     \u001b[38;5;28;01mif\u001b[39;00m \u001b[38;5;124m'\u001b[39m\u001b[38;5;124mflight\u001b[39m\u001b[38;5;124m'\u001b[39m \u001b[38;5;129;01min\u001b[39;00m df[\u001b[38;5;124m'\u001b[39m\u001b[38;5;124mpayload\u001b[39m\u001b[38;5;124m'\u001b[39m][i]\u001b[38;5;241m.\u001b[39mkeys() \u001b[38;5;129;01mand\u001b[39;00m \u001b[38;5;124m'\u001b[39m\u001b[38;5;124mgeom_rate\u001b[39m\u001b[38;5;124m'\u001b[39m \u001b[38;5;129;01min\u001b[39;00m df[\u001b[38;5;124m'\u001b[39m\u001b[38;5;124mpayload\u001b[39m\u001b[38;5;124m'\u001b[39m][i]\u001b[38;5;241m.\u001b[39mkeys() \u001b[38;5;129;01mand\u001b[39;00m \u001b[38;5;124m'\u001b[39m\u001b[38;5;124mnav_heading\u001b[39m\u001b[38;5;124m'\u001b[39m \u001b[38;5;129;01min\u001b[39;00m df[\u001b[38;5;124m'\u001b[39m\u001b[38;5;124mpayload\u001b[39m\u001b[38;5;124m'\u001b[39m][i]\u001b[38;5;241m.\u001b[39mkeys() \u001b[38;5;129;01mand\u001b[39;00m \u001b[38;5;124m'\u001b[39m\u001b[38;5;124msquawk\u001b[39m\u001b[38;5;124m'\u001b[39m \u001b[38;5;129;01min\u001b[39;00m df[\u001b[38;5;124m'\u001b[39m\u001b[38;5;124mpayload\u001b[39m\u001b[38;5;124m'\u001b[39m][i]\u001b[38;5;241m.\u001b[39mkeys() \u001b[38;5;129;01mand\u001b[39;00m \u001b[38;5;124m'\u001b[39m\u001b[38;5;124memergency\u001b[39m\u001b[38;5;124m'\u001b[39m \u001b[38;5;129;01min\u001b[39;00m df[\u001b[38;5;124m'\u001b[39m\u001b[38;5;124mpayload\u001b[39m\u001b[38;5;124m'\u001b[39m][i]\u001b[38;5;241m.\u001b[39mkeys() \u001b[38;5;129;01mand\u001b[39;00m \u001b[38;5;124m'\u001b[39m\u001b[38;5;124mgva\u001b[39m\u001b[38;5;124m'\u001b[39m \u001b[38;5;129;01min\u001b[39;00m df[\u001b[38;5;124m'\u001b[39m\u001b[38;5;124mpayload\u001b[39m\u001b[38;5;124m'\u001b[39m][i]\u001b[38;5;241m.\u001b[39mkeys():\n\u001b[0;32m      7\u001b[0m         df1 \u001b[38;5;241m=\u001b[39m df1\u001b[38;5;241m.\u001b[39mappend({\u001b[38;5;124m'\u001b[39m\u001b[38;5;124mdt\u001b[39m\u001b[38;5;124m'\u001b[39m: df[\u001b[38;5;124m'\u001b[39m\u001b[38;5;124mdt\u001b[39m\u001b[38;5;124m'\u001b[39m], \u001b[38;5;124m'\u001b[39m\u001b[38;5;124mflight\u001b[39m\u001b[38;5;124m'\u001b[39m: df[\u001b[38;5;124m'\u001b[39m\u001b[38;5;124mpayload\u001b[39m\u001b[38;5;124m'\u001b[39m][i][\u001b[38;5;124m'\u001b[39m\u001b[38;5;124mflight\u001b[39m\u001b[38;5;124m'\u001b[39m], \u001b[38;5;124m'\u001b[39m\u001b[38;5;124malt_baro\u001b[39m\u001b[38;5;124m'\u001b[39m: df[\u001b[38;5;124m'\u001b[39m\u001b[38;5;124mpayload\u001b[39m\u001b[38;5;124m'\u001b[39m][i][\u001b[38;5;124m'\u001b[39m\u001b[38;5;124malt_baro\u001b[39m\u001b[38;5;124m'\u001b[39m], \u001b[38;5;124m'\u001b[39m\u001b[38;5;124malt_geom\u001b[39m\u001b[38;5;124m'\u001b[39m: df[\u001b[38;5;124m'\u001b[39m\u001b[38;5;124mpayload\u001b[39m\u001b[38;5;124m'\u001b[39m][i][\u001b[38;5;124m'\u001b[39m\u001b[38;5;124malt_geom\u001b[39m\u001b[38;5;124m'\u001b[39m], \u001b[38;5;124m'\u001b[39m\u001b[38;5;124mgs\u001b[39m\u001b[38;5;124m'\u001b[39m: df[\u001b[38;5;124m'\u001b[39m\u001b[38;5;124mpayload\u001b[39m\u001b[38;5;124m'\u001b[39m][i][\u001b[38;5;124m'\u001b[39m\u001b[38;5;124mgs\u001b[39m\u001b[38;5;124m'\u001b[39m],\u001b[38;5;124m'\u001b[39m\u001b[38;5;124mtrack\u001b[39m\u001b[38;5;124m'\u001b[39m: df[\u001b[38;5;124m'\u001b[39m\u001b[38;5;124mpayload\u001b[39m\u001b[38;5;124m'\u001b[39m][i][\u001b[38;5;124m'\u001b[39m\u001b[38;5;124mtrack\u001b[39m\u001b[38;5;124m'\u001b[39m],\n\u001b[0;32m      8\u001b[0m                           \u001b[38;5;124m'\u001b[39m\u001b[38;5;124mgeom_rate\u001b[39m\u001b[38;5;124m'\u001b[39m: df[\u001b[38;5;124m'\u001b[39m\u001b[38;5;124mpayload\u001b[39m\u001b[38;5;124m'\u001b[39m][i][\u001b[38;5;124m'\u001b[39m\u001b[38;5;124mgeom_rate\u001b[39m\u001b[38;5;124m'\u001b[39m], \u001b[38;5;124m'\u001b[39m\u001b[38;5;124msquawk\u001b[39m\u001b[38;5;124m'\u001b[39m: df[\u001b[38;5;124m'\u001b[39m\u001b[38;5;124mpayload\u001b[39m\u001b[38;5;124m'\u001b[39m][i][\u001b[38;5;124m'\u001b[39m\u001b[38;5;124msquawk\u001b[39m\u001b[38;5;124m'\u001b[39m], \u001b[38;5;124m'\u001b[39m\u001b[38;5;124memergency\u001b[39m\u001b[38;5;124m'\u001b[39m: df[\u001b[38;5;124m'\u001b[39m\u001b[38;5;124mpayload\u001b[39m\u001b[38;5;124m'\u001b[39m][i][\u001b[38;5;124m'\u001b[39m\u001b[38;5;124memergency\u001b[39m\u001b[38;5;124m'\u001b[39m], \u001b[38;5;124m'\u001b[39m\u001b[38;5;124mcategory\u001b[39m\u001b[38;5;124m'\u001b[39m: df[\u001b[38;5;124m'\u001b[39m\u001b[38;5;124mpayload\u001b[39m\u001b[38;5;124m'\u001b[39m][i][\u001b[38;5;124m'\u001b[39m\u001b[38;5;124mcategory\u001b[39m\u001b[38;5;124m'\u001b[39m], \u001b[38;5;124m'\u001b[39m\u001b[38;5;124mnav_qnh\u001b[39m\u001b[38;5;124m'\u001b[39m: df[\u001b[38;5;124m'\u001b[39m\u001b[38;5;124mpayload\u001b[39m\u001b[38;5;124m'\u001b[39m][i][\u001b[38;5;124m'\u001b[39m\u001b[38;5;124mnav_qnh\u001b[39m\u001b[38;5;124m'\u001b[39m], \n\u001b[1;32m----> 9\u001b[0m                           \u001b[38;5;124m'\u001b[39m\u001b[38;5;124mnav_altitude_mcp\u001b[39m\u001b[38;5;124m'\u001b[39m: df[\u001b[38;5;124m'\u001b[39m\u001b[38;5;124mpayload\u001b[39m\u001b[38;5;124m'\u001b[39m][i][\u001b[38;5;124m'\u001b[39m\u001b[38;5;124mnav_altitude_mcp\u001b[39m\u001b[38;5;124m'\u001b[39m], \u001b[38;5;124m'\u001b[39m\u001b[38;5;124mnav_heading\u001b[39m\u001b[38;5;124m'\u001b[39m: df[\u001b[38;5;124m'\u001b[39m\u001b[38;5;124mpayload\u001b[39m\u001b[38;5;124m'\u001b[39m][i][\u001b[38;5;124m'\u001b[39m\u001b[38;5;124mnav_heading\u001b[39m\u001b[38;5;124m'\u001b[39m], \u001b[38;5;124m'\u001b[39m\u001b[38;5;124mlat\u001b[39m\u001b[38;5;124m'\u001b[39m: \u001b[43mdf\u001b[49m\u001b[43m[\u001b[49m\u001b[38;5;124;43m'\u001b[39;49m\u001b[38;5;124;43mpayload\u001b[39;49m\u001b[38;5;124;43m'\u001b[39;49m\u001b[43m]\u001b[49m\u001b[43m[\u001b[49m\u001b[43mi\u001b[49m\u001b[43m]\u001b[49m\u001b[43m[\u001b[49m\u001b[38;5;124;43m'\u001b[39;49m\u001b[38;5;124;43mlat\u001b[39;49m\u001b[38;5;124;43m'\u001b[39;49m\u001b[43m]\u001b[49m, \u001b[38;5;124m'\u001b[39m\u001b[38;5;124mlon\u001b[39m\u001b[38;5;124m'\u001b[39m: df[\u001b[38;5;124m'\u001b[39m\u001b[38;5;124mpayload\u001b[39m\u001b[38;5;124m'\u001b[39m][i][\u001b[38;5;124m'\u001b[39m\u001b[38;5;124mlon\u001b[39m\u001b[38;5;124m'\u001b[39m], \u001b[38;5;124m'\u001b[39m\u001b[38;5;124mnic\u001b[39m\u001b[38;5;124m'\u001b[39m: df[\u001b[38;5;124m'\u001b[39m\u001b[38;5;124mpayload\u001b[39m\u001b[38;5;124m'\u001b[39m][i][\u001b[38;5;124m'\u001b[39m\u001b[38;5;124mnic\u001b[39m\u001b[38;5;124m'\u001b[39m], \n\u001b[0;32m     10\u001b[0m                           \u001b[38;5;124m'\u001b[39m\u001b[38;5;124mrc\u001b[39m\u001b[38;5;124m'\u001b[39m: df[\u001b[38;5;124m'\u001b[39m\u001b[38;5;124mpayload\u001b[39m\u001b[38;5;124m'\u001b[39m][i][\u001b[38;5;124m'\u001b[39m\u001b[38;5;124mrc\u001b[39m\u001b[38;5;124m'\u001b[39m], \u001b[38;5;124m'\u001b[39m\u001b[38;5;124mseen_pos\u001b[39m\u001b[38;5;124m'\u001b[39m: df[\u001b[38;5;124m'\u001b[39m\u001b[38;5;124mpayload\u001b[39m\u001b[38;5;124m'\u001b[39m][i][\u001b[38;5;124m'\u001b[39m\u001b[38;5;124mseen_pos\u001b[39m\u001b[38;5;124m'\u001b[39m], \u001b[38;5;124m'\u001b[39m\u001b[38;5;124mversion\u001b[39m\u001b[38;5;124m'\u001b[39m: df[\u001b[38;5;124m'\u001b[39m\u001b[38;5;124mpayload\u001b[39m\u001b[38;5;124m'\u001b[39m][i][\u001b[38;5;124m'\u001b[39m\u001b[38;5;124mversion\u001b[39m\u001b[38;5;124m'\u001b[39m], \u001b[38;5;124m'\u001b[39m\u001b[38;5;124mnic_baro\u001b[39m\u001b[38;5;124m'\u001b[39m: df[\u001b[38;5;124m'\u001b[39m\u001b[38;5;124mpayload\u001b[39m\u001b[38;5;124m'\u001b[39m][i][\u001b[38;5;124m'\u001b[39m\u001b[38;5;124mnic_baro\u001b[39m\u001b[38;5;124m'\u001b[39m], \u001b[38;5;124m'\u001b[39m\u001b[38;5;124mnac_p\u001b[39m\u001b[38;5;124m'\u001b[39m: df[\u001b[38;5;124m'\u001b[39m\u001b[38;5;124mpayload\u001b[39m\u001b[38;5;124m'\u001b[39m][i][\u001b[38;5;124m'\u001b[39m\u001b[38;5;124mnac_p\u001b[39m\u001b[38;5;124m'\u001b[39m], \n\u001b[0;32m     11\u001b[0m                           \u001b[38;5;124m'\u001b[39m\u001b[38;5;124mnac_v\u001b[39m\u001b[38;5;124m'\u001b[39m: df[\u001b[38;5;124m'\u001b[39m\u001b[38;5;124mpayload\u001b[39m\u001b[38;5;124m'\u001b[39m][i][\u001b[38;5;124m'\u001b[39m\u001b[38;5;124mnac_v\u001b[39m\u001b[38;5;124m'\u001b[39m], \u001b[38;5;124m'\u001b[39m\u001b[38;5;124msil\u001b[39m\u001b[38;5;124m'\u001b[39m: df[\u001b[38;5;124m'\u001b[39m\u001b[38;5;124mpayload\u001b[39m\u001b[38;5;124m'\u001b[39m][i][\u001b[38;5;124m'\u001b[39m\u001b[38;5;124msil\u001b[39m\u001b[38;5;124m'\u001b[39m], \u001b[38;5;124m'\u001b[39m\u001b[38;5;124msil_type\u001b[39m\u001b[38;5;124m'\u001b[39m: df[\u001b[38;5;124m'\u001b[39m\u001b[38;5;124mpayload\u001b[39m\u001b[38;5;124m'\u001b[39m][i][\u001b[38;5;124m'\u001b[39m\u001b[38;5;124msil_type\u001b[39m\u001b[38;5;124m'\u001b[39m], \u001b[38;5;124m'\u001b[39m\u001b[38;5;124mgva\u001b[39m\u001b[38;5;124m'\u001b[39m: df[\u001b[38;5;124m'\u001b[39m\u001b[38;5;124mpayload\u001b[39m\u001b[38;5;124m'\u001b[39m][i][\u001b[38;5;124m'\u001b[39m\u001b[38;5;124mgva\u001b[39m\u001b[38;5;124m'\u001b[39m], \u001b[38;5;124m'\u001b[39m\u001b[38;5;124msda\u001b[39m\u001b[38;5;124m'\u001b[39m: df[\u001b[38;5;124m'\u001b[39m\u001b[38;5;124mpayload\u001b[39m\u001b[38;5;124m'\u001b[39m][i][\u001b[38;5;124m'\u001b[39m\u001b[38;5;124msda\u001b[39m\u001b[38;5;124m'\u001b[39m], \u001b[38;5;124m'\u001b[39m\u001b[38;5;124mmlat\u001b[39m\u001b[38;5;124m'\u001b[39m: df[\u001b[38;5;124m'\u001b[39m\u001b[38;5;124mpayload\u001b[39m\u001b[38;5;124m'\u001b[39m][i][\u001b[38;5;124m'\u001b[39m\u001b[38;5;124mmlat\u001b[39m\u001b[38;5;124m'\u001b[39m],\n\u001b[0;32m     12\u001b[0m                           \u001b[38;5;124m'\u001b[39m\u001b[38;5;124mtisb\u001b[39m\u001b[38;5;124m'\u001b[39m: df[\u001b[38;5;124m'\u001b[39m\u001b[38;5;124mpayload\u001b[39m\u001b[38;5;124m'\u001b[39m][i][\u001b[38;5;124m'\u001b[39m\u001b[38;5;124mtisb\u001b[39m\u001b[38;5;124m'\u001b[39m], \u001b[38;5;124m'\u001b[39m\u001b[38;5;124mmessages\u001b[39m\u001b[38;5;124m'\u001b[39m: df[\u001b[38;5;124m'\u001b[39m\u001b[38;5;124mpayload\u001b[39m\u001b[38;5;124m'\u001b[39m][i][\u001b[38;5;124m'\u001b[39m\u001b[38;5;124mmessages\u001b[39m\u001b[38;5;124m'\u001b[39m], \u001b[38;5;124m'\u001b[39m\u001b[38;5;124mseen\u001b[39m\u001b[38;5;124m'\u001b[39m: df[\u001b[38;5;124m'\u001b[39m\u001b[38;5;124mpayload\u001b[39m\u001b[38;5;124m'\u001b[39m][i][\u001b[38;5;124m'\u001b[39m\u001b[38;5;124mseen\u001b[39m\u001b[38;5;124m'\u001b[39m], \u001b[38;5;124m'\u001b[39m\u001b[38;5;124mrssi\u001b[39m\u001b[38;5;124m'\u001b[39m: df[\u001b[38;5;124m'\u001b[39m\u001b[38;5;124mpayload\u001b[39m\u001b[38;5;124m'\u001b[39m][i][\u001b[38;5;124m'\u001b[39m\u001b[38;5;124mrssi\u001b[39m\u001b[38;5;124m'\u001b[39m]}, ignore_index\u001b[38;5;241m=\u001b[39m\u001b[38;5;28;01mTrue\u001b[39;00m)\n\u001b[0;32m     13\u001b[0m         \u001b[38;5;66;03m#print(df1)\u001b[39;00m\n\u001b[0;32m     14\u001b[0m \u001b[38;5;28;01mreturn\u001b[39;00m df1\n",
      "\u001b[1;31mKeyError\u001b[0m: 'lat'"
     ]
    }
   ],
   "source": [
    "df11 = dataframe_setup(df1)\n",
    "df22 = dataframe_setup(df2)\n",
    "df33 = dataframe_setup(df3)"
   ]
  },
  {
   "cell_type": "code",
   "execution_count": null,
   "metadata": {},
   "outputs": [],
   "source": [
    "# for i in range(len(df1)):\n",
    "#     #print(i)\n",
    "#     if str(df1['flight']) == 'SWQ2816':\n",
    "#         print(df1)\n",
    "        "
   ]
  },
  {
   "cell_type": "code",
   "execution_count": null,
   "metadata": {},
   "outputs": [],
   "source": []
  }
 ],
 "metadata": {
  "kernelspec": {
   "display_name": "Python 3 (ipykernel)",
   "language": "python",
   "name": "python3"
  },
  "language_info": {
   "codemirror_mode": {
    "name": "ipython",
    "version": 3
   },
   "file_extension": ".py",
   "mimetype": "text/x-python",
   "name": "python",
   "nbconvert_exporter": "python",
   "pygments_lexer": "ipython3",
   "version": "3.8.5"
  },
  "vscode": {
   "interpreter": {
    "hash": "6187c59154eb8fe6142a8fe759ac430eba9ff7a028fb09ee35055d8121aa7d78"
   }
  }
 },
 "nbformat": 4,
 "nbformat_minor": 4
}
