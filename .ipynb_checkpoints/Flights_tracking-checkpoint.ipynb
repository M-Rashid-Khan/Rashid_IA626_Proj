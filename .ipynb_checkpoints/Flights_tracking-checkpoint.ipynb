{
 "cells": [
  {
   "cell_type": "code",
   "execution_count": null,
   "metadata": {},
   "outputs": [],
   "source": [
    "#Using ADS-B API for flights tracking\n",
    "\n",
    "%matplotlib tk\n",
    "import urllib.request\n",
    "import json\n",
    "import matplotlib.pyplot as plt\n",
    "from matplotlib import animation\n",
    "import cartopy.crs as ccrs\n",
    "from cartopy.io.img_tiles import OSM"
   ]
  },
  {
   "cell_type": "code",
   "execution_count": null,
   "metadata": {},
   "outputs": [],
   "source": [
    "#DEFINE FIGURE\n",
    "fig, ax = plt.subplots()\n",
    "\n",
    "#SET AXES FOR PLOTTING AREA\n",
    "ax=plt.axes(projection=ccrs.PlateCarree())\n",
    "ax.set_ylim(40.6051,40.6825)\n",
    "ax.set_xlim(-73.8288,-73.7258)\n",
    "\n",
    "#ADD OSM BASEMAP\n",
    "osm_tiles=OSM()\n",
    "ax.add_image(osm_tiles,13) #Zoom level 13\n",
    "\n",
    "#PLOT JFK INTL AIRPORT\n",
    "ax.text(-73.778889,40.639722,'JFK Intl',horizontalalignment='right',size='large')\n",
    "ax.plot([-73.778889],[40.639722],'bo') #Plot a point in blue color"
   ]
  },
  {
   "cell_type": "code",
   "execution_count": null,
   "metadata": {},
   "outputs": [],
   "source": [
    "plt.show()"
   ]
  }
 ],
 "metadata": {
  "kernelspec": {
   "display_name": "Python 3 (ipykernel)",
   "language": "python",
   "name": "python3"
  },
  "language_info": {
   "codemirror_mode": {
    "name": "ipython",
    "version": 3
   },
   "file_extension": ".py",
   "mimetype": "text/x-python",
   "name": "python",
   "nbconvert_exporter": "python",
   "pygments_lexer": "ipython3",
   "version": "3.8.5"
  }
 },
 "nbformat": 4,
 "nbformat_minor": 4
}
